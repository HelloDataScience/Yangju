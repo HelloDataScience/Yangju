{
 "cells": [
  {
   "cell_type": "code",
   "execution_count": null,
   "id": "1565a068-7334-4c01-ae7b-3f5a5c67ee60",
   "metadata": {},
   "outputs": [],
   "source": [
    "import requests\n",
    "import xmltodict\n",
    "import json\n",
    "from pprint import pprint\n",
    "from tqdm.notebook import tqdm\n",
    "import pandas as pd"
   ]
  },
  {
   "cell_type": "code",
   "execution_count": null,
   "id": "1932ba98-814d-4616-87b4-7aab0a709cff",
   "metadata": {},
   "outputs": [],
   "source": [
    "url = 'http://apis.data.go.kr/1192000/select0090List/getselect0090List'"
   ]
  },
  {
   "cell_type": "code",
   "execution_count": null,
   "id": "cee2dc3c-e1e1-48b0-b021-190d8ca63597",
   "metadata": {},
   "outputs": [],
   "source": [
    "api_key = 'PBJct2NnY43P0PBlqdr3cVao2RJ5bJ0BQOgV9PIOdQFjCCG259NS9FMREH8bJILFOMoxa35pQsOSmLw7Qawprg=='"
   ]
  },
  {
   "cell_type": "code",
   "execution_count": null,
   "id": "b059c598-bf15-48c7-bcef-9ade2b0da20b",
   "metadata": {},
   "outputs": [],
   "source": [
    "query = {\n",
    "    'serviceKey': api_key, \n",
    "    'numOfRows': 100, \n",
    "    'pageNo': 1, \n",
    "    'type': 'json', \n",
    "    'baseDt': '202401'\n",
    "}"
   ]
  },
  {
   "cell_type": "code",
   "execution_count": null,
   "id": "0d2eec6e-1218-4633-a064-71aaa34ff8d4",
   "metadata": {},
   "outputs": [],
   "source": [
    "res = requests.get(url = url, params = query)"
   ]
  },
  {
   "cell_type": "code",
   "execution_count": null,
   "id": "d9ad3569-d7bc-4992-ab7d-98a1eae1182c",
   "metadata": {},
   "outputs": [],
   "source": [
    "res.status_code"
   ]
  },
  {
   "cell_type": "code",
   "execution_count": null,
   "id": "6ddbeaa2-5505-4c6b-a226-535e57655ef3",
   "metadata": {},
   "outputs": [],
   "source": [
    "res.headers['content-type']"
   ]
  },
  {
   "cell_type": "code",
   "execution_count": null,
   "id": "a9113f0f-d7b8-4dd4-b457-6a692fc35f09",
   "metadata": {},
   "outputs": [],
   "source": [
    "res.text\n",
    "type(res.text)"
   ]
  },
  {
   "cell_type": "raw",
   "id": "8cb56ace-b378-4c15-b9b3-eb28a773a207",
   "metadata": {},
   "source": [
    "# xml -> dict\n",
    "dat = xmltodict.parse(res.text)\n",
    "type(dat)"
   ]
  },
  {
   "cell_type": "code",
   "execution_count": null,
   "id": "12a3ed08-45a9-4c9e-9e3f-1ca1f59c9f25",
   "metadata": {},
   "outputs": [],
   "source": [
    "# json -> dict\n",
    "dat = json.loads(res.text)\n",
    "type(dat)"
   ]
  },
  {
   "cell_type": "code",
   "execution_count": null,
   "id": "762947a4-a76f-44f7-9064-c2d6c13afc74",
   "metadata": {
    "scrolled": true
   },
   "outputs": [],
   "source": [
    "pprint(dat)"
   ]
  },
  {
   "cell_type": "code",
   "execution_count": null,
   "id": "89a6869b-c73d-4581-b2aa-f3e896c3dfa3",
   "metadata": {},
   "outputs": [],
   "source": [
    "totalCount = int(dat['responseJson']['header']['totalCount'])\n",
    "totalCount"
   ]
  },
  {
   "cell_type": "code",
   "execution_count": null,
   "id": "ab672998-b5b4-418f-951c-00cb0596987e",
   "metadata": {},
   "outputs": [],
   "source": [
    "rows = 100\n",
    "pages = int(totalCount / rows) + 1\n",
    "pages"
   ]
  },
  {
   "cell_type": "code",
   "execution_count": null,
   "id": "ff05c476-e796-4f05-a0b5-9c1e8cfc2fcc",
   "metadata": {},
   "outputs": [],
   "source": [
    "df = pd.DataFrame(data = dat['responseJson']['body']['item'])\n",
    "df.shape"
   ]
  },
  {
   "cell_type": "code",
   "execution_count": null,
   "id": "47b1a6d1-f5a3-41c6-8a4e-b7168cef2a75",
   "metadata": {},
   "outputs": [],
   "source": [
    "def mprcTotalCount(ymonth, rows = 100):\n",
    "    url = 'http://apis.data.go.kr/1192000/select0090List/getselect0090List'\n",
    "    query = {\n",
    "        'serviceKey': 'PBJct2NnY43P0PBlqdr3cVao2RJ5bJ0BQOgV9PIOdQFjCCG259NS9FMREH8bJILFOMoxa35pQsOSmLw7Qawprg==', \n",
    "        'numOfRows': rows, \n",
    "        'pageNo': 1, \n",
    "        'type': 'json', \n",
    "        'baseDt': ymonth\n",
    "    }\n",
    "    res = requests.get(url = url, params = query)\n",
    "    dat = json.loads(res.text)\n",
    "    totalCount = int(dat['responseJson']['header']['totalCount'])\n",
    "    pages = int(totalCount / rows) + 1\n",
    "    return totalCount, pages"
   ]
  },
  {
   "cell_type": "code",
   "execution_count": null,
   "id": "ddf8638b-56ce-451e-9d48-480b373166d9",
   "metadata": {},
   "outputs": [],
   "source": [
    "totalCount, pages = mprcTotalCount(ymonth = '202401')\n",
    "print(totalCount)\n",
    "print(pages)"
   ]
  },
  {
   "cell_type": "code",
   "execution_count": null,
   "id": "54c36e8f-48b4-4870-9cd3-808514f3652a",
   "metadata": {},
   "outputs": [],
   "source": [
    "def mprcDataFrame(ymonth, rows = 100, page = 1):\n",
    "    url = 'http://apis.data.go.kr/1192000/select0090List/getselect0090List'\n",
    "    query = {\n",
    "        'serviceKey': 'PBJct2NnY43P0PBlqdr3cVao2RJ5bJ0BQOgV9PIOdQFjCCG259NS9FMREH8bJILFOMoxa35pQsOSmLw7Qawprg==', \n",
    "        'numOfRows': rows, \n",
    "        'pageNo': page, \n",
    "        'type': 'json', \n",
    "        'baseDt': ymonth\n",
    "    }\n",
    "    res = requests.get(url = url, params = query)\n",
    "    dat = json.loads(res.text)\n",
    "    df = pd.DataFrame(data = dat['responseJson']['body']['item'])\n",
    "    return df"
   ]
  },
  {
   "cell_type": "code",
   "execution_count": null,
   "id": "2e630515-76ae-41e6-806b-9d909c898e58",
   "metadata": {},
   "outputs": [],
   "source": [
    "df = mprcDataFrame(ymonth = '202401')\n",
    "df.shape"
   ]
  },
  {
   "cell_type": "code",
   "execution_count": null,
   "id": "eaa59fa8-4dce-41b4-b2c4-f3e9549eafb2",
   "metadata": {},
   "outputs": [],
   "source": [
    "dfs = pd.DataFrame()\n",
    "for page in tqdm(range(pages)):\n",
    "    page += 1\n",
    "    df = mprcDataFrame(ymonth = '202401', page = page)\n",
    "    dfs = pd.concat(objs = [dfs, df])"
   ]
  },
  {
   "cell_type": "code",
   "execution_count": null,
   "id": "ce4006e4-ccd2-446f-8dc8-f9ce78f6c3d8",
   "metadata": {},
   "outputs": [],
   "source": [
    "dfs.shape"
   ]
  },
  {
   "cell_type": "code",
   "execution_count": null,
   "id": "949d6780-f1ab-4b45-988d-d1b83fe2dc59",
   "metadata": {},
   "outputs": [],
   "source": [
    "def mprcDataset(ymonth):\n",
    "    totalCount, pages = mprcTotalCount(ymonth = ymonth)\n",
    "    dfs = pd.DataFrame()\n",
    "    for page in tqdm(range(pages)):\n",
    "        page += 1\n",
    "        df = mprcDataFrame(ymonth = ymonth, page = page)\n",
    "        dfs = pd.concat(objs = [dfs, df])\n",
    "    return dfs"
   ]
  },
  {
   "cell_type": "code",
   "execution_count": null,
   "id": "fe055695-964d-426d-86c5-385d32b860c4",
   "metadata": {},
   "outputs": [],
   "source": [
    "df = mprcDataset(ymonth = '202401')\n",
    "df.shape"
   ]
  },
  {
   "cell_type": "code",
   "execution_count": null,
   "id": "d66343fd-b881-49e0-a782-7792cdfd330a",
   "metadata": {},
   "outputs": [],
   "source": [
    "ymonths = range(202401, 202413)\n",
    "dfs = pd.DataFrame()\n",
    "for ymonth in tqdm(ymonths):\n",
    "    df = mprcDataset(ymonth = ymonth)\n",
    "    dfs = pd.concat(objs = [dfs, df])"
   ]
  },
  {
   "cell_type": "code",
   "execution_count": null,
   "id": "28e2e90e-8233-4228-90a2-3d8133dd0034",
   "metadata": {},
   "outputs": [],
   "source": [
    "dfs.shape"
   ]
  },
  {
   "cell_type": "code",
   "execution_count": null,
   "id": "547e7330-f0b4-4df4-a25c-47dfa234a8ad",
   "metadata": {},
   "outputs": [],
   "source": [
    "dfs"
   ]
  },
  {
   "cell_type": "code",
   "execution_count": null,
   "id": "632ef2c1-eeec-4894-a890-8c54a0cb8b9e",
   "metadata": {},
   "outputs": [],
   "source": [
    "dfs = dfs.reset_index(drop = True)"
   ]
  },
  {
   "cell_type": "code",
   "execution_count": null,
   "id": "65fa8e82-b543-43bf-b9fd-517d1135dedb",
   "metadata": {},
   "outputs": [],
   "source": [
    "import os"
   ]
  },
  {
   "cell_type": "code",
   "execution_count": null,
   "id": "e0796b72-7b99-46ca-9baf-953a7c38b5f8",
   "metadata": {},
   "outputs": [],
   "source": [
    "os.getcwd()"
   ]
  },
  {
   "cell_type": "code",
   "execution_count": null,
   "id": "b7b24d9c-d861-47fd-9bf8-18880b5657b6",
   "metadata": {},
   "outputs": [],
   "source": [
    "os.chdir(path = 'C:\\\\Users\\\\user\\\\Documents\\\\project\\\\data')\n",
    "os.getcwd()"
   ]
  },
  {
   "cell_type": "code",
   "execution_count": null,
   "id": "8e01208f-7d5b-4b65-8d64-c2496187b565",
   "metadata": {},
   "outputs": [],
   "source": [
    "%time dfs.to_excel('MPRC_2024.xlsx', index = False)"
   ]
  },
  {
   "cell_type": "code",
   "execution_count": null,
   "id": "955beaf1-7667-48c6-a33b-33c75fe5dac7",
   "metadata": {},
   "outputs": [],
   "source": [
    "%time dfs.to_csv('MPRC_2024.csv', index = False, encoding = 'CP949')"
   ]
  },
  {
   "cell_type": "code",
   "execution_count": null,
   "id": "960729dc-2af6-47df-8b28-9e420bb3d26e",
   "metadata": {},
   "outputs": [],
   "source": [
    "os.listdir()"
   ]
  },
  {
   "cell_type": "code",
   "execution_count": null,
   "id": "d83b87ae-737a-45c1-a56b-ad2906f60a39",
   "metadata": {},
   "outputs": [],
   "source": []
  },
  {
   "cell_type": "code",
   "execution_count": null,
   "id": "f447981e-583e-4ce1-a114-4210a7deff2f",
   "metadata": {},
   "outputs": [],
   "source": []
  },
  {
   "cell_type": "code",
   "execution_count": 1,
   "id": "b877f27f-6584-4d1e-868e-3e564547e87a",
   "metadata": {},
   "outputs": [],
   "source": [
    "import os\n",
    "import numpy as np\n",
    "import pandas as pd"
   ]
  },
  {
   "cell_type": "code",
   "execution_count": 2,
   "id": "85fb2e4e-2336-41c8-8a34-c0efeeab2686",
   "metadata": {},
   "outputs": [
    {
     "data": {
      "text/plain": [
       "'C:\\\\Users\\\\user\\\\Documents\\\\project\\\\code'"
      ]
     },
     "execution_count": 2,
     "metadata": {},
     "output_type": "execute_result"
    }
   ],
   "source": [
    "os.getcwd()"
   ]
  },
  {
   "cell_type": "code",
   "execution_count": 3,
   "id": "6688f0a5-e5e5-4bf1-8868-0a89b27eee25",
   "metadata": {},
   "outputs": [
    {
     "data": {
      "text/plain": [
       "'C:\\\\Users\\\\user\\\\Documents\\\\project\\\\data'"
      ]
     },
     "execution_count": 3,
     "metadata": {},
     "output_type": "execute_result"
    }
   ],
   "source": [
    "# 상대 경로: '.'(현재 폴더), '..'(부모 폴더)\n",
    "os.chdir(path = '../data')\n",
    "os.getcwd()"
   ]
  },
  {
   "cell_type": "code",
   "execution_count": 4,
   "id": "13b5bf3f-13da-4aca-a152-ac031178efb1",
   "metadata": {},
   "outputs": [
    {
     "data": {
      "text/plain": [
       "['MPRC_2024.csv', 'MPRC_2024.xlsx']"
      ]
     },
     "execution_count": 4,
     "metadata": {},
     "output_type": "execute_result"
    }
   ],
   "source": [
    "os.listdir()"
   ]
  },
  {
   "cell_type": "code",
   "execution_count": 5,
   "id": "42fbe670-6365-40b4-b230-adaf43826bac",
   "metadata": {},
   "outputs": [
    {
     "data": {
      "text/plain": [
       "['.ipynb_checkpoints',\n",
       " 'Day1.ipynb',\n",
       " 'Day2.ipynb',\n",
       " 'Day3.ipynb',\n",
       " 'Day4.ipynb',\n",
       " 'first_code.ipynb',\n",
       " 'myfuncs.py',\n",
       " '__pycache__']"
      ]
     },
     "execution_count": 5,
     "metadata": {},
     "output_type": "execute_result"
    }
   ],
   "source": [
    "os.chdir(path = '../code')\n",
    "os.listdir()"
   ]
  },
  {
   "cell_type": "code",
   "execution_count": 6,
   "id": "c39b0513-c4a8-490f-ad87-35b217a90fd1",
   "metadata": {},
   "outputs": [
    {
     "data": {
      "text/plain": [
       "'C:\\\\Users\\\\user\\\\Documents\\\\project\\\\data'"
      ]
     },
     "execution_count": 6,
     "metadata": {},
     "output_type": "execute_result"
    }
   ],
   "source": [
    "os.chdir(path = '../data')\n",
    "os.getcwd()"
   ]
  },
  {
   "cell_type": "code",
   "execution_count": 7,
   "id": "287a45aa-0751-4062-aa86-f4965e576a68",
   "metadata": {},
   "outputs": [
    {
     "data": {
      "text/plain": [
       "['MPRC_2024.csv', 'MPRC_2024.xlsx']"
      ]
     },
     "execution_count": 7,
     "metadata": {},
     "output_type": "execute_result"
    }
   ],
   "source": [
    "os.listdir()"
   ]
  },
  {
   "cell_type": "code",
   "execution_count": 8,
   "id": "596a2902-f7f8-4ab7-b85d-2384ee979448",
   "metadata": {},
   "outputs": [
    {
     "name": "stdout",
     "output_type": "stream",
     "text": [
      "CPU times: total: 8.5 s\n",
      "Wall time: 13.5 s\n"
     ]
    }
   ],
   "source": [
    "%time df = pd.read_excel('MPRC_2024.xlsx')"
   ]
  },
  {
   "cell_type": "code",
   "execution_count": 11,
   "id": "9cb74a8a-39dc-4430-a519-b81f850190b6",
   "metadata": {},
   "outputs": [
    {
     "name": "stdout",
     "output_type": "stream",
     "text": [
      "CPU times: total: 46.9 ms\n",
      "Wall time: 150 ms\n"
     ]
    }
   ],
   "source": [
    "%time df = pd.read_csv('MPRC_2024.csv', encoding = 'CP949')"
   ]
  },
  {
   "cell_type": "code",
   "execution_count": 13,
   "id": "c04b81b8-3f6a-472d-90d7-2a95473aac0a",
   "metadata": {
    "collapsed": true,
    "jupyter": {
     "outputs_hidden": true
    }
   },
   "outputs": [
    {
     "data": {
      "text/html": [
       "<div>\n",
       "<style scoped>\n",
       "    .dataframe tbody tr th:only-of-type {\n",
       "        vertical-align: middle;\n",
       "    }\n",
       "\n",
       "    .dataframe tbody tr th {\n",
       "        vertical-align: top;\n",
       "    }\n",
       "\n",
       "    .dataframe thead th {\n",
       "        text-align: right;\n",
       "    }\n",
       "</style>\n",
       "<table border=\"1\" class=\"dataframe\">\n",
       "  <thead>\n",
       "    <tr style=\"text-align: right;\">\n",
       "      <th></th>\n",
       "      <th>stdYymm</th>\n",
       "      <th>nationCode</th>\n",
       "      <th>mprcExipitmCode</th>\n",
       "      <th>imxprtSeCode</th>\n",
       "      <th>nationNm</th>\n",
       "      <th>ecoblNm</th>\n",
       "      <th>mprcExipitmNm</th>\n",
       "      <th>imxprtSeNm</th>\n",
       "      <th>imxprtWt</th>\n",
       "      <th>imxprtDollarAmount</th>\n",
       "    </tr>\n",
       "  </thead>\n",
       "  <tbody>\n",
       "    <tr>\n",
       "      <th>0</th>\n",
       "      <td>202401</td>\n",
       "      <td>AE</td>\n",
       "      <td>106199000</td>\n",
       "      <td>E</td>\n",
       "      <td>아랍에미리트연합</td>\n",
       "      <td>걸프협력회의</td>\n",
       "      <td>기타 포유동물</td>\n",
       "      <td>수출</td>\n",
       "      <td>17.5</td>\n",
       "      <td>455</td>\n",
       "    </tr>\n",
       "    <tr>\n",
       "      <th>1</th>\n",
       "      <td>202401</td>\n",
       "      <td>AE</td>\n",
       "      <td>301998000</td>\n",
       "      <td>E</td>\n",
       "      <td>아랍에미리트연합</td>\n",
       "      <td>걸프협력회의</td>\n",
       "      <td>넙치(활어)</td>\n",
       "      <td>수출</td>\n",
       "      <td>798.2</td>\n",
       "      <td>19735</td>\n",
       "    </tr>\n",
       "    <tr>\n",
       "      <th>2</th>\n",
       "      <td>202401</td>\n",
       "      <td>AE</td>\n",
       "      <td>302240000</td>\n",
       "      <td>E</td>\n",
       "      <td>아랍에미리트연합</td>\n",
       "      <td>걸프협력회의</td>\n",
       "      <td>터벗(신선 또는 냉장)(프세타 맥시마)</td>\n",
       "      <td>수출</td>\n",
       "      <td>304.0</td>\n",
       "      <td>11425</td>\n",
       "    </tr>\n",
       "  </tbody>\n",
       "</table>\n",
       "</div>"
      ],
      "text/plain": [
       "   stdYymm nationCode  mprcExipitmCode imxprtSeCode  nationNm ecoblNm  \\\n",
       "0   202401         AE        106199000            E  아랍에미리트연합  걸프협력회의   \n",
       "1   202401         AE        301998000            E  아랍에미리트연합  걸프협력회의   \n",
       "2   202401         AE        302240000            E  아랍에미리트연합  걸프협력회의   \n",
       "\n",
       "           mprcExipitmNm imxprtSeNm  imxprtWt  imxprtDollarAmount  \n",
       "0                기타 포유동물         수출      17.5                 455  \n",
       "1                 넙치(활어)         수출     798.2               19735  \n",
       "2  터벗(신선 또는 냉장)(프세타 맥시마)         수출     304.0               11425  "
      ]
     },
     "execution_count": 13,
     "metadata": {},
     "output_type": "execute_result"
    }
   ],
   "source": [
    "df.head(n = 3)"
   ]
  },
  {
   "cell_type": "code",
   "execution_count": 14,
   "id": "660b455f-e332-4d83-9b57-e101d8618652",
   "metadata": {
    "collapsed": true,
    "jupyter": {
     "outputs_hidden": true
    }
   },
   "outputs": [
    {
     "data": {
      "text/html": [
       "<div>\n",
       "<style scoped>\n",
       "    .dataframe tbody tr th:only-of-type {\n",
       "        vertical-align: middle;\n",
       "    }\n",
       "\n",
       "    .dataframe tbody tr th {\n",
       "        vertical-align: top;\n",
       "    }\n",
       "\n",
       "    .dataframe thead th {\n",
       "        text-align: right;\n",
       "    }\n",
       "</style>\n",
       "<table border=\"1\" class=\"dataframe\">\n",
       "  <thead>\n",
       "    <tr style=\"text-align: right;\">\n",
       "      <th></th>\n",
       "      <th>stdYymm</th>\n",
       "      <th>nationCode</th>\n",
       "      <th>mprcExipitmCode</th>\n",
       "      <th>imxprtSeCode</th>\n",
       "      <th>nationNm</th>\n",
       "      <th>ecoblNm</th>\n",
       "      <th>mprcExipitmNm</th>\n",
       "      <th>imxprtSeNm</th>\n",
       "      <th>imxprtWt</th>\n",
       "      <th>imxprtDollarAmount</th>\n",
       "    </tr>\n",
       "  </thead>\n",
       "  <tbody>\n",
       "    <tr>\n",
       "      <th>32375</th>\n",
       "      <td>202412</td>\n",
       "      <td>VU</td>\n",
       "      <td>304879000</td>\n",
       "      <td>I</td>\n",
       "      <td>바누아트</td>\n",
       "      <td>NaN</td>\n",
       "      <td>다랑어 기타(냉동한 피레트)</td>\n",
       "      <td>수입</td>\n",
       "      <td>819.400</td>\n",
       "      <td>7232</td>\n",
       "    </tr>\n",
       "    <tr>\n",
       "      <th>32376</th>\n",
       "      <td>202412</td>\n",
       "      <td>VU</td>\n",
       "      <td>307432090</td>\n",
       "      <td>I</td>\n",
       "      <td>바누아트</td>\n",
       "      <td>NaN</td>\n",
       "      <td>기타</td>\n",
       "      <td>수입</td>\n",
       "      <td>6499.350</td>\n",
       "      <td>29897</td>\n",
       "    </tr>\n",
       "    <tr>\n",
       "      <th>32377</th>\n",
       "      <td>202412</td>\n",
       "      <td>ZA</td>\n",
       "      <td>106199000</td>\n",
       "      <td>I</td>\n",
       "      <td>남아프리카</td>\n",
       "      <td>NaN</td>\n",
       "      <td>기타 포유동물</td>\n",
       "      <td>수입</td>\n",
       "      <td>6.000</td>\n",
       "      <td>1790</td>\n",
       "    </tr>\n",
       "    <tr>\n",
       "      <th>32378</th>\n",
       "      <td>202412</td>\n",
       "      <td>ZA</td>\n",
       "      <td>303821000</td>\n",
       "      <td>I</td>\n",
       "      <td>남아프리카</td>\n",
       "      <td>NaN</td>\n",
       "      <td>가오리(냉동)</td>\n",
       "      <td>수입</td>\n",
       "      <td>975.000</td>\n",
       "      <td>3022</td>\n",
       "    </tr>\n",
       "    <tr>\n",
       "      <th>32379</th>\n",
       "      <td>202412</td>\n",
       "      <td>ZA</td>\n",
       "      <td>303892000</td>\n",
       "      <td>I</td>\n",
       "      <td>남아프리카</td>\n",
       "      <td>NaN</td>\n",
       "      <td>갈치(냉동)</td>\n",
       "      <td>수입</td>\n",
       "      <td>301397.525</td>\n",
       "      <td>625530</td>\n",
       "    </tr>\n",
       "  </tbody>\n",
       "</table>\n",
       "</div>"
      ],
      "text/plain": [
       "       stdYymm nationCode  mprcExipitmCode imxprtSeCode nationNm ecoblNm  \\\n",
       "32375   202412         VU        304879000            I     바누아트     NaN   \n",
       "32376   202412         VU        307432090            I     바누아트     NaN   \n",
       "32377   202412         ZA        106199000            I    남아프리카     NaN   \n",
       "32378   202412         ZA        303821000            I    남아프리카     NaN   \n",
       "32379   202412         ZA        303892000            I    남아프리카     NaN   \n",
       "\n",
       "         mprcExipitmNm imxprtSeNm    imxprtWt  imxprtDollarAmount  \n",
       "32375  다랑어 기타(냉동한 피레트)         수입     819.400                7232  \n",
       "32376               기타         수입    6499.350               29897  \n",
       "32377          기타 포유동물         수입       6.000                1790  \n",
       "32378          가오리(냉동)         수입     975.000                3022  \n",
       "32379           갈치(냉동)         수입  301397.525              625530  "
      ]
     },
     "execution_count": 14,
     "metadata": {},
     "output_type": "execute_result"
    }
   ],
   "source": [
    "df.tail()"
   ]
  },
  {
   "cell_type": "code",
   "execution_count": 20,
   "id": "a3abfbc6-bbc8-4c96-be82-bdeb6cf066a2",
   "metadata": {},
   "outputs": [
    {
     "data": {
      "text/html": [
       "<div>\n",
       "<style scoped>\n",
       "    .dataframe tbody tr th:only-of-type {\n",
       "        vertical-align: middle;\n",
       "    }\n",
       "\n",
       "    .dataframe tbody tr th {\n",
       "        vertical-align: top;\n",
       "    }\n",
       "\n",
       "    .dataframe thead th {\n",
       "        text-align: right;\n",
       "    }\n",
       "</style>\n",
       "<table border=\"1\" class=\"dataframe\">\n",
       "  <thead>\n",
       "    <tr style=\"text-align: right;\">\n",
       "      <th></th>\n",
       "      <th>stdYymm</th>\n",
       "      <th>nationCode</th>\n",
       "      <th>mprcExipitmCode</th>\n",
       "      <th>imxprtSeCode</th>\n",
       "      <th>nationNm</th>\n",
       "      <th>ecoblNm</th>\n",
       "      <th>mprcExipitmNm</th>\n",
       "      <th>imxprtSeNm</th>\n",
       "      <th>imxprtWt</th>\n",
       "      <th>imxprtDollarAmount</th>\n",
       "    </tr>\n",
       "  </thead>\n",
       "  <tbody>\n",
       "    <tr>\n",
       "      <th>9486</th>\n",
       "      <td>202404</td>\n",
       "      <td>VU</td>\n",
       "      <td>303550000</td>\n",
       "      <td>E</td>\n",
       "      <td>바누아트</td>\n",
       "      <td>NaN</td>\n",
       "      <td>전갱이(냉동)(트라커러스종)</td>\n",
       "      <td>수출</td>\n",
       "      <td>15200.0</td>\n",
       "      <td>19250</td>\n",
       "    </tr>\n",
       "  </tbody>\n",
       "</table>\n",
       "</div>"
      ],
      "text/plain": [
       "      stdYymm nationCode  mprcExipitmCode imxprtSeCode nationNm ecoblNm  \\\n",
       "9486   202404         VU        303550000            E     바누아트     NaN   \n",
       "\n",
       "        mprcExipitmNm imxprtSeNm  imxprtWt  imxprtDollarAmount  \n",
       "9486  전갱이(냉동)(트라커러스종)         수출   15200.0               19250  "
      ]
     },
     "execution_count": 20,
     "metadata": {},
     "output_type": "execute_result"
    }
   ],
   "source": [
    "# 재현 가능한 결과를 얻기 위해 초기값을 고정해줍니다.\n",
    "df.sample(random_state = 1)"
   ]
  },
  {
   "cell_type": "code",
   "execution_count": 21,
   "id": "77e6974a-80a7-45bd-be1a-69853245c3e3",
   "metadata": {},
   "outputs": [
    {
     "name": "stdout",
     "output_type": "stream",
     "text": [
      "<class 'pandas.core.frame.DataFrame'>\n",
      "RangeIndex: 32380 entries, 0 to 32379\n",
      "Data columns (total 10 columns):\n",
      " #   Column              Non-Null Count  Dtype  \n",
      "---  ------              --------------  -----  \n",
      " 0   stdYymm             32380 non-null  int64  \n",
      " 1   nationCode          32371 non-null  object \n",
      " 2   mprcExipitmCode     32380 non-null  int64  \n",
      " 3   imxprtSeCode        32380 non-null  object \n",
      " 4   nationNm            32380 non-null  object \n",
      " 5   ecoblNm             27466 non-null  object \n",
      " 6   mprcExipitmNm       32380 non-null  object \n",
      " 7   imxprtSeNm          32380 non-null  object \n",
      " 8   imxprtWt            32380 non-null  float64\n",
      " 9   imxprtDollarAmount  32380 non-null  int64  \n",
      "dtypes: float64(1), int64(3), object(6)\n",
      "memory usage: 2.5+ MB\n"
     ]
    }
   ],
   "source": [
    "df.info()"
   ]
  },
  {
   "cell_type": "code",
   "execution_count": 22,
   "id": "c6bc5c33-0379-4629-878f-90c462a72135",
   "metadata": {},
   "outputs": [
    {
     "data": {
      "text/plain": [
       "Index(['stdYymm', 'nationCode', 'mprcExipitmCode', 'imxprtSeCode', 'nationNm',\n",
       "       'ecoblNm', 'mprcExipitmNm', 'imxprtSeNm', 'imxprtWt',\n",
       "       'imxprtDollarAmount'],\n",
       "      dtype='object')"
      ]
     },
     "execution_count": 22,
     "metadata": {},
     "output_type": "execute_result"
    }
   ],
   "source": [
    "df.columns"
   ]
  },
  {
   "cell_type": "code",
   "execution_count": 23,
   "id": "9af7d54b-5379-4a24-81ae-24a153e91cab",
   "metadata": {},
   "outputs": [],
   "source": [
    "df.columns = ['기준년월', '국가코드', '수산물코드', '수출입코드', '국가명',\n",
    "              '경제블럭명', '수산물명', '수출입명', '중량', '달러']"
   ]
  },
  {
   "cell_type": "code",
   "execution_count": 24,
   "id": "d84bddd6-17bd-4366-8ec6-39dce24128ce",
   "metadata": {
    "collapsed": true,
    "jupyter": {
     "outputs_hidden": true
    }
   },
   "outputs": [
    {
     "data": {
      "text/html": [
       "<div>\n",
       "<style scoped>\n",
       "    .dataframe tbody tr th:only-of-type {\n",
       "        vertical-align: middle;\n",
       "    }\n",
       "\n",
       "    .dataframe tbody tr th {\n",
       "        vertical-align: top;\n",
       "    }\n",
       "\n",
       "    .dataframe thead th {\n",
       "        text-align: right;\n",
       "    }\n",
       "</style>\n",
       "<table border=\"1\" class=\"dataframe\">\n",
       "  <thead>\n",
       "    <tr style=\"text-align: right;\">\n",
       "      <th></th>\n",
       "      <th>기준년월</th>\n",
       "      <th>국가코드</th>\n",
       "      <th>수산물코드</th>\n",
       "      <th>수출입코드</th>\n",
       "      <th>국가명</th>\n",
       "      <th>경제블럭명</th>\n",
       "      <th>수산물명</th>\n",
       "      <th>수출입명</th>\n",
       "      <th>중량</th>\n",
       "      <th>달러</th>\n",
       "    </tr>\n",
       "  </thead>\n",
       "  <tbody>\n",
       "    <tr>\n",
       "      <th>0</th>\n",
       "      <td>202401</td>\n",
       "      <td>AE</td>\n",
       "      <td>106199000</td>\n",
       "      <td>E</td>\n",
       "      <td>아랍에미리트연합</td>\n",
       "      <td>걸프협력회의</td>\n",
       "      <td>기타 포유동물</td>\n",
       "      <td>수출</td>\n",
       "      <td>17.5</td>\n",
       "      <td>455</td>\n",
       "    </tr>\n",
       "    <tr>\n",
       "      <th>1</th>\n",
       "      <td>202401</td>\n",
       "      <td>AE</td>\n",
       "      <td>301998000</td>\n",
       "      <td>E</td>\n",
       "      <td>아랍에미리트연합</td>\n",
       "      <td>걸프협력회의</td>\n",
       "      <td>넙치(활어)</td>\n",
       "      <td>수출</td>\n",
       "      <td>798.2</td>\n",
       "      <td>19735</td>\n",
       "    </tr>\n",
       "    <tr>\n",
       "      <th>2</th>\n",
       "      <td>202401</td>\n",
       "      <td>AE</td>\n",
       "      <td>302240000</td>\n",
       "      <td>E</td>\n",
       "      <td>아랍에미리트연합</td>\n",
       "      <td>걸프협력회의</td>\n",
       "      <td>터벗(신선 또는 냉장)(프세타 맥시마)</td>\n",
       "      <td>수출</td>\n",
       "      <td>304.0</td>\n",
       "      <td>11425</td>\n",
       "    </tr>\n",
       "    <tr>\n",
       "      <th>3</th>\n",
       "      <td>202401</td>\n",
       "      <td>AE</td>\n",
       "      <td>303510000</td>\n",
       "      <td>E</td>\n",
       "      <td>아랍에미리트연합</td>\n",
       "      <td>걸프협력회의</td>\n",
       "      <td>청어(클루페아 하렌구스,클루페아 팔라시)</td>\n",
       "      <td>수출</td>\n",
       "      <td>20.0</td>\n",
       "      <td>638</td>\n",
       "    </tr>\n",
       "    <tr>\n",
       "      <th>4</th>\n",
       "      <td>202401</td>\n",
       "      <td>AE</td>\n",
       "      <td>303540000</td>\n",
       "      <td>E</td>\n",
       "      <td>아랍에미리트연합</td>\n",
       "      <td>걸프협력회의</td>\n",
       "      <td>고등어(스콤버 스콤브루스,스콤버 오스트랄라시쿠스,스콤버 자포니쿠스)</td>\n",
       "      <td>수출</td>\n",
       "      <td>170.0</td>\n",
       "      <td>1472</td>\n",
       "    </tr>\n",
       "  </tbody>\n",
       "</table>\n",
       "</div>"
      ],
      "text/plain": [
       "     기준년월 국가코드      수산물코드 수출입코드       국가명   경제블럭명  \\\n",
       "0  202401   AE  106199000     E  아랍에미리트연합  걸프협력회의   \n",
       "1  202401   AE  301998000     E  아랍에미리트연합  걸프협력회의   \n",
       "2  202401   AE  302240000     E  아랍에미리트연합  걸프협력회의   \n",
       "3  202401   AE  303510000     E  아랍에미리트연합  걸프협력회의   \n",
       "4  202401   AE  303540000     E  아랍에미리트연합  걸프협력회의   \n",
       "\n",
       "                                    수산물명 수출입명     중량     달러  \n",
       "0                                기타 포유동물   수출   17.5    455  \n",
       "1                                 넙치(활어)   수출  798.2  19735  \n",
       "2                  터벗(신선 또는 냉장)(프세타 맥시마)   수출  304.0  11425  \n",
       "3                 청어(클루페아 하렌구스,클루페아 팔라시)   수출   20.0    638  \n",
       "4  고등어(스콤버 스콤브루스,스콤버 오스트랄라시쿠스,스콤버 자포니쿠스)   수출  170.0   1472  "
      ]
     },
     "execution_count": 24,
     "metadata": {},
     "output_type": "execute_result"
    }
   ],
   "source": [
    "df.head()"
   ]
  },
  {
   "cell_type": "code",
   "execution_count": 26,
   "id": "e0748973-c991-45f4-8133-78ee4cce5471",
   "metadata": {},
   "outputs": [],
   "source": [
    "# df.drop(columns = ['국가코드', '수산물코드', '수출입코드', '경제블럭명'], inplace = True)\n",
    "df = df.drop(columns = ['국가코드', '수산물코드', '수출입코드', '경제블럭명'])"
   ]
  },
  {
   "cell_type": "code",
   "execution_count": 27,
   "id": "1e497dac-067d-4b66-aec4-bd9dfef65afc",
   "metadata": {},
   "outputs": [
    {
     "data": {
      "text/plain": [
       "(32380, 6)"
      ]
     },
     "execution_count": 27,
     "metadata": {},
     "output_type": "execute_result"
    }
   ],
   "source": [
    "df.shape"
   ]
  },
  {
   "cell_type": "code",
   "execution_count": 28,
   "id": "eee19cd5-a875-42b8-abba-0767c7839658",
   "metadata": {},
   "outputs": [
    {
     "data": {
      "text/plain": [
       "기준년월      int64\n",
       "국가명      object\n",
       "수산물명     object\n",
       "수출입명     object\n",
       "중량      float64\n",
       "달러        int64\n",
       "dtype: object"
      ]
     },
     "execution_count": 28,
     "metadata": {},
     "output_type": "execute_result"
    }
   ],
   "source": [
    "df.dtypes"
   ]
  },
  {
   "cell_type": "code",
   "execution_count": 31,
   "id": "d1f79bbe-bec7-42c7-bd0e-869a621d1086",
   "metadata": {},
   "outputs": [],
   "source": [
    "df['기준년월'] = df['기준년월'].astype(str)"
   ]
  },
  {
   "cell_type": "code",
   "execution_count": 32,
   "id": "3aabb5e0-d9ee-4058-8073-60d030875fd7",
   "metadata": {},
   "outputs": [
    {
     "data": {
      "text/plain": [
       "기준년월     object\n",
       "국가명      object\n",
       "수산물명     object\n",
       "수출입명     object\n",
       "중량      float64\n",
       "달러        int64\n",
       "dtype: object"
      ]
     },
     "execution_count": 32,
     "metadata": {},
     "output_type": "execute_result"
    }
   ],
   "source": [
    "df.dtypes"
   ]
  },
  {
   "cell_type": "code",
   "execution_count": 33,
   "id": "eb74c959-6de0-434d-91f8-8922efbbf929",
   "metadata": {},
   "outputs": [
    {
     "data": {
      "text/html": [
       "<div>\n",
       "<style scoped>\n",
       "    .dataframe tbody tr th:only-of-type {\n",
       "        vertical-align: middle;\n",
       "    }\n",
       "\n",
       "    .dataframe tbody tr th {\n",
       "        vertical-align: top;\n",
       "    }\n",
       "\n",
       "    .dataframe thead th {\n",
       "        text-align: right;\n",
       "    }\n",
       "</style>\n",
       "<table border=\"1\" class=\"dataframe\">\n",
       "  <thead>\n",
       "    <tr style=\"text-align: right;\">\n",
       "      <th></th>\n",
       "      <th>기준년월</th>\n",
       "      <th>국가명</th>\n",
       "      <th>수산물명</th>\n",
       "      <th>수출입명</th>\n",
       "      <th>중량</th>\n",
       "      <th>달러</th>\n",
       "    </tr>\n",
       "  </thead>\n",
       "  <tbody>\n",
       "    <tr>\n",
       "      <th>0</th>\n",
       "      <td>202401</td>\n",
       "      <td>아랍에미리트연합</td>\n",
       "      <td>기타 포유동물</td>\n",
       "      <td>수출</td>\n",
       "      <td>17.5</td>\n",
       "      <td>455</td>\n",
       "    </tr>\n",
       "    <tr>\n",
       "      <th>1</th>\n",
       "      <td>202401</td>\n",
       "      <td>아랍에미리트연합</td>\n",
       "      <td>넙치(활어)</td>\n",
       "      <td>수출</td>\n",
       "      <td>798.2</td>\n",
       "      <td>19735</td>\n",
       "    </tr>\n",
       "    <tr>\n",
       "      <th>2</th>\n",
       "      <td>202401</td>\n",
       "      <td>아랍에미리트연합</td>\n",
       "      <td>터벗(신선 또는 냉장)(프세타 맥시마)</td>\n",
       "      <td>수출</td>\n",
       "      <td>304.0</td>\n",
       "      <td>11425</td>\n",
       "    </tr>\n",
       "    <tr>\n",
       "      <th>3</th>\n",
       "      <td>202401</td>\n",
       "      <td>아랍에미리트연합</td>\n",
       "      <td>청어(클루페아 하렌구스,클루페아 팔라시)</td>\n",
       "      <td>수출</td>\n",
       "      <td>20.0</td>\n",
       "      <td>638</td>\n",
       "    </tr>\n",
       "    <tr>\n",
       "      <th>4</th>\n",
       "      <td>202401</td>\n",
       "      <td>아랍에미리트연합</td>\n",
       "      <td>고등어(스콤버 스콤브루스,스콤버 오스트랄라시쿠스,스콤버 자포니쿠스)</td>\n",
       "      <td>수출</td>\n",
       "      <td>170.0</td>\n",
       "      <td>1472</td>\n",
       "    </tr>\n",
       "  </tbody>\n",
       "</table>\n",
       "</div>"
      ],
      "text/plain": [
       "     기준년월       국가명                                   수산물명 수출입명     중량     달러\n",
       "0  202401  아랍에미리트연합                                기타 포유동물   수출   17.5    455\n",
       "1  202401  아랍에미리트연합                                 넙치(활어)   수출  798.2  19735\n",
       "2  202401  아랍에미리트연합                  터벗(신선 또는 냉장)(프세타 맥시마)   수출  304.0  11425\n",
       "3  202401  아랍에미리트연합                 청어(클루페아 하렌구스,클루페아 팔라시)   수출   20.0    638\n",
       "4  202401  아랍에미리트연합  고등어(스콤버 스콤브루스,스콤버 오스트랄라시쿠스,스콤버 자포니쿠스)   수출  170.0   1472"
      ]
     },
     "execution_count": 33,
     "metadata": {},
     "output_type": "execute_result"
    }
   ],
   "source": [
    "df.head()"
   ]
  },
  {
   "cell_type": "code",
   "execution_count": 45,
   "id": "832331d2-5710-499a-a1de-71340a2c9bf9",
   "metadata": {
    "collapsed": true,
    "jupyter": {
     "outputs_hidden": true
    }
   },
   "outputs": [
    {
     "data": {
      "text/plain": [
       "array(['기타 포유동물', '넙치(활어)', '터벗(신선 또는 냉장)(프세타 맥시마)',\n",
       "       '청어(클루페아 하렌구스,클루페아 팔라시)', '고등어(스콤버 스콤브루스,스콤버 오스트랄라시쿠스,스콤버 자포니쿠스)',\n",
       "       '삼치[스콤버로모러스(Scomberomorus)종]', '명태(냉동)(테라그라 찰코그라마)', '복어(냉동)',\n",
       "       '임연수어(냉동)', '가자미(냉동한 피레트)', '어란(명태/염장,염수장)',\n",
       "       '멸치[엔그라울리스(Engraulis)종]', '조기(건조/염장불문/훈제제외)',\n",
       "       '굴치패 기타(산 것 신선 또는 냉장한 것)', '냉동한 것', '기타', '문어', '낙지', '바지락',\n",
       "       '전복(산 것 신선 또는 냉장한 것)', '냉동한 전복[할리오티스(Haliotis)종]',\n",
       "       '해파리(염장 또는 염수장한 것)', '미역(건조한 것)(식용의 것)', '톳(냉동한 것)(식용의 것)',\n",
       "       '다랭이(기름담금)', '버니토우(기타)', '고등어(조제/밀폐용기에 넣은 것)', '꽁치(통조림외조제품)',\n",
       "       '생선묵(게맛)', '어류조제,저장제품(생선 페이스트,마리네이드,소시지,생선묵)',\n",
       "       '조미오징어(조제 또는 저장처리)(밀폐용기에 넣은 것)', '오징어 기타(조제 또는 저장처리)',\n",
       "       '골뱅이(조제 또는 저장처리)(밀폐용기에 넣은 것)', '김', '조제한 해조류 김 제외', '천일염', '식염',\n",
       "       '기타소금,해수', '가자미(플루로넥테스 플라테사)', '기타넙치류(냉동)',\n",
       "       '꽁치[콜로라비스 사이라(Cololabis saira)]', '대구(가두스 모르화,가두스 오각,가두스 마크로세팔루스)',\n",
       "       '아귀(냉동)', '민어(냉동)', '기타어류(냉동)', '명태(냉동한 피레트)(테라그라 찰코그라마)',\n",
       "       '기타어류의 기타(냉동한 피레트)', '기타 냉동연육 외 기타',\n",
       "       '틸라피아,메기,잉어,뱀장어,나일퍼치 종의 건조한 것', '기타 어류(건조)', '고등어(염장,염수장)',\n",
       "       '어류(청어,대구,연어,송어,갈치,정어리,고등어 등 이외)', '그 밖의 새우류', '기타 굴(건조한 것)',\n",
       "       '갑오징어(훈제한 것)', '쭈꾸미', '수생무척추동물의 기타(냉동 한것)', '김(건조한 것)(식용의 것)',\n",
       "       '미역(기타)(식용의 것)', '다시마(냉동한 것)(식용의 것)', '다시마(기타)(식용의 것)',\n",
       "       '다랭이류(다랭이, 가다랭이 이외 기타/조제/밀폐용기에 넣은 것)', '다랭이류(조제/밀폐용기에 넣은 것 이외 기타)',\n",
       "       '가다랭이(기타)', '멸치(조제/밀폐용기에 넣은 것)', '전갱이(조제/밀폐용기에 넣은 것 이외 기타)',\n",
       "       '쥐치포(조제/밀페용기 이외 기타)', '어류조제품(연어,청어,고등어,기타/조제/밀폐용기에 넣은 것)', '생선소시지',\n",
       "       '생선묵(게맛의 것 이외 기타)', '캐비아 대용물', '기타 게살(밀폐용기에 넣은 것, 훈제한 것 이외 기타)',\n",
       "       '연체동물 기타(조제 또는 저장처리)(밀폐용기에 넣은 것)', '연체동물 기타(조제 또는 저장처리)(기타)',\n",
       "       '기타조제저장처리수생무척추동물(밀폐용기에넣은것 포함, 밀폐용기에 넣지 않은 것)-해삼,성게,해파리제외',\n",
       "       '어류의 수우프, 브로드와 수우프 브로드 제조용 조제품', '어란(명태, 조기, 청어이외 기타/염장, 염수장)',\n",
       "       '어류(연어, 청어, 멸치, 명태이외 기타/훈제/피레트 포함)', '다랑어 기타(냉동한 피레트)',\n",
       "       '볼락(적어포함/활어)', '미꾸라지(활어)', '기타어류(활어)', '돔(신선 또는 냉장)(스파리대과를 제외한다)',\n",
       "       '기타(신선 또는 냉장)(삼치,복어,병어,아귀 외 기타)', '뱀장어(냉동)(앵귈라종)',\n",
       "       '서대(간장, 어란제외/냉동/피레트, 어육제외)', '명란',\n",
       "       '곱상어, 그 밖의 상어, 가오리와 홍어(라지대과) 냉동 피레트-곱상어, 그 밖의 상어 제외',\n",
       "       '고등어의것(냉동한 것)', '명태 냉동연육 외 기타', '까나리(건조/염장불문/훈제제외)',\n",
       "       '실치(건조/염장불문/훈제제외)', '갈치(염장,염수장)', '게살(냉동한 것) 훈제한 것(기타)',\n",
       "       '꽃게(냉동한 것) 기타', '기타의 새우류의 새우살(냉동한 것)(훈제한 것 외 기타)', '대게', '게(기타)',\n",
       "       '건조한 것', '홍합(건조)',\n",
       "       '갑오징어[세피아 오피시날리스(Sepia officinalis)ㆍ로시아 마크로소마(Rossia macrosoma)ㆍ세피올라(Sepiola)종]와 오징어[옴마스트레페스(Ommastrephes)종ㆍ로',\n",
       "       '낙지(산것/신선, 냉장)', '새조개', '기타[분 조분 펠리트 포함(식용 적합)]의 기타(산,신선,냉장)',\n",
       "       '해삼(산 것 신선 또는 냉장한 것)', '우렁쉥이(냉동한 것)', '미역(염장한 것)(식용의 것)',\n",
       "       '미역(냉동한 것)(식용의 것)', '톳(기타)(식용의 것)', '파래(건조한 것)(식용의 것)',\n",
       "       '다시마(염장한 것)(식용의 것)', '김(기타)', '다시마(기타)', '어류의즙', '다랭이(보일드)',\n",
       "       '게 조제품(게살 이외 기타)', '새우류(조제 또는 저장처리)(밀폐용기에 넣지 아니한 것)(브레드한 것)',\n",
       "       '새우류(조제 또는 저장처리)(밀폐용기에 넣지 아니한 것)(기타)', '새우류(조제 또는 저장처리)',\n",
       "       '갑오징어, 기타조제저장처리갑오징어(밀폐용기에넣은것 포함, 밀폐용기이외)', '바지락(조제 또는 저장처리)(기타)',\n",
       "       '클램, 새조개 및 피조개 기타(조제 또는 저장처리)(기타)', '스리루리나 효모(기타)',\n",
       "       '양식진주로 만든 것   ', '전갱이(냉동)(트라커러스종)',\n",
       "       '기타 넙치류(간장, 어란제외/신선, 냉장/피레트, 어육제외)',\n",
       "       '청어(신선 또는 냉장)(클루페아 하렌구스,클루페아 팔라시)',\n",
       "       '고등어(신선 또는 냉장)(스콤버-스콤브루스,오스트랄시쿠스,자포니쿠스))',\n",
       "       '그 밖의 태평양 연어(옹코링쿠스 고르부스카,옹코링쿠스 케타,옹코링쿠스 차비차,옹코링쿠스 키수츠,옹코링쿠스 마소,옹코링쿠스 로두루스)',\n",
       "       '넙치[레인하드티우스 히포글러소이데스,히포글러서스 히포글러서스,히포글러서스 스테노레피스)',\n",
       "       '황다랑어(터너스 알바카레스/냉동)', '가다랑어 또는 줄무늬버니토우(냉동)',\n",
       "       '민대구(냉동)(메루키우스종 등 2종)', '홍어(냉동)', '농어(신선 또는 냉장)(디센트라르쿠스종)',\n",
       "       '갈치(냉동)', '붕장어(냉동)', '조기(냉동)', '참다랑어(냉동한 피레트)', '명태 냉동연육',\n",
       "       '왕게(냉동)', '갑각류 기타(냉동한 것)(훈제한것 외 기타)',\n",
       "       '옴마스트레페스(Ommastrephes)종ㆍ로리고(Loligo)종ㆍ노토토다루스(Nototodarus)종ㆍ세피오투디스(Sepioteuthis)종',\n",
       "       '클램, 새조개 및 피조개 기타 살아있는겄, 신선한 것, 냉장한 것', '소라(산 것 신선 또는 냉장한 것)',\n",
       "       '소라', '소라, 기타연체동물(염장, 염수장)', '산호(coral)', '연체동물,갑각류,극피동물',\n",
       "       '어류,갑각류,연체동물,수행동', '미역(기타)', '분한천', '상어의 간유(肝油)와 그 분획물', '어류의액스',\n",
       "       '가리비과의조개(조제,저장/기타, 밀폐용기에 넣은 것 포함)', '홍합(조제 또는 저장처리)(밀폐용기에 넣은 것)',\n",
       "       '해삼(조제 또는 저장처리)(밀폐용기에 넣은 것)', '해삼(조제 또는 저장처리)기타', '암염(岩鹽)',\n",
       "       '순염화나트륨', '천연진주로만든 것 ', '황새치(냉동한 피레트)(자이피어스 글래디어스)', '눈다랑어(냉동)',\n",
       "       '멸치(훈제/피레트포함)', '클로렐라 효모(기타)', '조개껍질로 만든것',\n",
       "       '넙치(간장, 어란제외/신선, 냉장/피레트, 어육제외)', '이빨고기(냉동)(디소스티쿠스종)',\n",
       "       '톳(건조한 것)(식용의 것)', '골뱅이(조제 또는 저장처리)(기타)', '패각(기타)',\n",
       "       '틸라피아[오레오크로미스(Oreochromis)종], 메기[판가시우스(Pangasius)종ㆍ실루러스(Silurus)종ㆍ클라리아스(Clarias)종ㆍ익타루러스(Ictalurus)종], 잉어[사이',\n",
       "       '어류(대구,상어지느러미,멸치,명태,조기등외기타건조/훈제제외)', '대구(염장,염수장)', '멸치젓(염장,염수장)',\n",
       "       '멸치(멸치젓 이외 기타/염장, 염수장)', '정어리(염장,염수장)', '상어 지느러미(건조한 것)',\n",
       "       '게살(밀폐용기에넣은것)', '붉은 대게살(밀폐용기에 넣은 것, 훈제한 것 이외 기타)',\n",
       "       '굴(조제 또는 저장처리)(기타)', '오징어(조제 또는 저장처리)(밀폐용기에 넣은 것)',\n",
       "       '문어, 기타조제저장처리문어(밀폐용기에넣은것 포함, 밀폐용기이외)', '전복(조제 또는 저장처리) 기타',\n",
       "       '클로렐라 효모(둥글넓적한 것)', '어류외기타 분.조분 및 펠리트',\n",
       "       '가리비과의조개 기타(산것, 신선, 냉장) - 펙텐, 클라미스, 프라코펙텐 속의 것 제외',\n",
       "       '어류조제품(연어,청어,정어리,고등어 등 밀폐용기에넣은것)', '갑각류,연체동물,수생동물의', '붕장어(활어)',\n",
       "       '복어(활어)', '기타(신선,냉장)', '전갱이(신선 또는 냉장)(트라커러스종)', '방어(신선 또는 냉장)',\n",
       "       '붕장어(신선 또는 냉장)', '꽁치(신선 또는 냉장)(학꽁치를 포함한다)', '아귀(신선 또는 냉장)', '간',\n",
       "       '날개다랑어 또는 긴지느러미다랑어(터너스알라룽가/냉동)', '황새치(자이피어스글래디어스)', '달고기(냉동)',\n",
       "       '붕장어(신선 또는 냉장한 피레트)', '기타(신선 또는 냉장한 피레트)', '넙치류 기타(냉동한 피레트)',\n",
       "       '붕장어의 것(냉동한 피레트)', '기타 냉동연육', '닭새우류(팔리누루스종 파누리루스종 자수스종)(냉동한것)(기타)',\n",
       "       '굴치패 종패용 외 기타(산 것  신선 또는 냉장한 것)', '피조개 기타(산 것  신선 또는 냉장한 것)',\n",
       "       '개아지살(산 것 신선 또는 냉장한 것)', '성게(산 것 신선 또는 냉장한 것)', '성게(염장 또는 염수장한 것)',\n",
       "       '우뭇가사리(기타)(식용의 것)', '해초류와 기타조류 기타(기타)(식용의 것)', '해초류와 기타조류 기타(기타)',\n",
       "       '실한천', '새조개(조제 또는 저장처리)(밀폐용기에 넣은 것)', '어류의 분.조분 및 펠리트',\n",
       "       '염장이나 염수장한 것', '주꾸미(산것/신선, 냉장)', '기타 대구(신선 또는 냉장)',\n",
       "       '대서양 연어(신선 또는 냉장)(살모 살라) 및 다뉴브 연어(후코 후코)', '김(기타)(식용의 것)',\n",
       "       '한천(실한천,분한천 이외 기타)', '연어(조제/밀폐용기에 넣은 것)',\n",
       "       '기타(연육 외 기타)(기타,신선 또는 냉장한 것)', '정어리(냉동)(사르디나 필차르두스,사르디노프스종)',\n",
       "       '바닷가재[호마루스(Homarus)종]', '기타문어(산것/신선, 냉장)',\n",
       "       '연어(조제/밀페용기에 넣은 것 이외 기타)', '진두발(기타)', '경납(동물성 납)', '명태(훈제/피레트포함)',\n",
       "       '닭새우류(팔리누루스종 파누리루스종 자수스종)(냉동한 것)(훈제한 것)',\n",
       "       '우렁쉥이(기타)(산 것 신선 또는 냉장한 것)', '소라(조제 또는 저장처리)기타',\n",
       "       '해파리(조제 또는 저장처리)(밀폐용기에 넣은 것)', '해파리(조제 또는 저장처리)(기타)',\n",
       "       '고등어(조제/밀폐용기에 넣은 것 이외 기타)', '뱀장어(조제 또는 저장처리)', '넙치류 기타(신선 또는 냉장)',\n",
       "       '어란(청어/염장,염수장)', '틸라피아(냉동한 피레트)(오레오크로미스종)',\n",
       "       '틸라피아,메기,잉어,뱀장어,나일퍼치 종의 기타(냉동한 피레트)', '갈치(신선 또는 냉장)',\n",
       "       '블루 화이팅스(마이크로메시스티우스 포우타소우,마이크로메시스티우스 오스트랄리스)',\n",
       "       '기타(냉동)(새꼬리민태 외 기타)', '양식진주(가공한것)', '병어[팜푸스(Pampus)종]',\n",
       "       '곱상어와 기타 상어(냉동)', '문어(산것, 신선, 냉장, 냉동, 건조 이외 기타)',\n",
       "       '갑각류 조제품(게,새우,바다가재기타/밀폐용기에넣은것이외기타)', '돔(기타, 참돔)', '숭어(활어)',\n",
       "       '뱀장어(신선 또는 냉장)(앵귈라종)', '가오리와 홍어(라지대과)(신선 또는 냉장)',\n",
       "       '가오리와 홍어(신선냉장) 피레트', '기타어류의 피레트(건조한것)',\n",
       "       '클램, 새조개 및 피조개 기타(염장 또는 염수장한 것)', '해삼(염장 또는 염수장한 것)',\n",
       "       '수생무척추동물의 기타(산 것)', '미역(냉장한 것)(식용의 것)', '파래(기타)(식용의 것)',\n",
       "       '해초류와 기타조류 기타(냉동)(식용의 것)', '파래(기타)', '생선마리네이드',\n",
       "       '굴(조제 또는 저장처리)(밀폐용기에 넣은 것)', '새조개(조제 또는 저장처리)(기타)',\n",
       "       '클램, 새조개 및 피조개 기타(조제 또는 저장처리)(밀폐용기에 넣은 것)', '스리루리나 효모(둥글넓적한 것)',\n",
       "       '기타(냉동)', '볼낙(냉동)(적어를 포함한다)',\n",
       "       '가리비과의조개(산것, 신선, 냉장) - 펙텐, 클라미스, 프라코펙텐 속의 것', '가오리(냉동)',\n",
       "       '민대구(냉동한 피레트)(메루키우스종ㆍ유르피키스종)', '기타(활어)(민물의 것)', '먹장어(활어)',\n",
       "       '남방참다랑어(터너스맥코이/냉동)',\n",
       "       '닭새우류[팔리누루스(Palinurus)종ㆍ파누리루스(Panulirus)종ㆍ자수스(Jasus)종]',\n",
       "       '어류의 지방과 기름 및 그 분획물[간유(肝油)는 제외한다]', '전복(밀폐용기에넣은것)', '어류의웨이스트',\n",
       "       '캐비아', '기타(활어)(비단잉어 외  민물의 것)', '먹장어(냉동)(대서양 또는 태평양)',\n",
       "       '태평양 연어(옹코링쿠스- 넬카,고르부스카,케타,차비차,키수츠,마소,로두루스), 대서양 연어(살모 살라), 다뉴브 연어(후코 후코))',\n",
       "       '바닷가재(호마루스종)(냉동한 것) 훈제한 것(기타)',\n",
       "       '냉수성 새우류(판달러스종,크란곤 크란곤)의 새우살(냉동한 것)(훈제한 것 외 기타)',\n",
       "       '냉수성 새우류(판달러스종,크란곤 크란곤)기타(냉동한 것)(훈제한 것)', '바다가재(통조림외)',\n",
       "       '성게(조제 또는 저장처리)(기타)', '태평양연어(옹코링쿠스-넬카,고르부스카,케타,차비차,키수츠,마소,로드루스)',\n",
       "       '대서양연어(냉동)(살모 살라)와 다뉴브연어(후코 후코)',\n",
       "       '태평양 연어(옹코링쿠스- 넬카,고르부스카,케타,차비차,키수츠,마소,,로두루스, 대서양 연어(살모 살라,다뉴브 연어)',\n",
       "       '홍합(산 것, 신선, 냉장, 냉동, 건조 이외 기타)', '식용어류분', '홍합(조제 또는 저장처리)(기타)',\n",
       "       '갯지렁이', '뱀장어(앵궐라종)', '잉어(기타)', '돔(기타, 기타)', '농어(기타)', '민어(활어)',\n",
       "       '대구(신선 또는 냉장)(가두스 모르화,가두스 오각,가두스 마크로세팔루스)',\n",
       "       '옥돔(냉동)(브랜치오스테거스 자포니커스)', '옥두어(냉동)(브랜치오스테거스 알부스)', '돔(냉동)(기타)',\n",
       "       '까나리(냉동)',\n",
       "       '태평양 연어(옹코링쿠스 -넬카,고르부스카,케타,차비차,키수츠,마소,로두루스), 대서양 연어(살모 살라),다뉴브 연어(후코 후코))',\n",
       "       '쥐치의 것(냉동한 피레트)', '틸라피아,메기,잉어,뱀장어,나일퍼치 종의 냉동연육외 기타',\n",
       "       '브레그마세로티대과외6종무리에놀레피디대과어류 건조한것 ', '대구(건조/염장불문/훈제제외)',\n",
       "       '기타 어류의 머리 꼬리', '기타[분ㆍ조분 및 펠리트를 포함(식용에 적합)](냉동한 것)(훈제한 것 외 기타)',\n",
       "       '가리비과의조개(냉동)', '백합', '피조개 종패용(산 것  신선 또는 냉장한 것)',\n",
       "       '바지락(산 것 신선 또는 냉장한 것)', '피조개', '개조개', '개아지살',\n",
       "       '우렁쉥이(종묘)(산 것  신선 또는 냉장한 것)', '첩패각과 지첩패각', '야광패각(소라)', '기타패각',\n",
       "       '부화용알(브라인슈림프알)', '동물성의해면', '어류의간유,분획물(상어의간유', '정어리(밀폐용기에넣은것)',\n",
       "       '달팽이(조제 또는 저장처리)(밀폐용기에 넣은 것)', '달팽이(조제 또는 저장처리)(기타)',\n",
       "       '양식진주(가공하지않은것)', '흰다리새우{리토페나에수스바나메이)', '대서양 참다랑어(터너스 터너스)',\n",
       "       '태평양 참다랑어(신선 또는 냉장)(터너스 오리엔탈리스)', '농어(냉동)(디센트라르쿠스종)',\n",
       "       '대서양 참다랑어(냉동)(터너스 티너스)', '참다랑어(신선 또는 냉장한 피레트)',\n",
       "       '세피아 오피시날리스(Sepia officinalis)ㆍ로시아 마크로소마(Rossia macrosoma)ㆍ세피올라(Sepiola)종',\n",
       "       '기타 가리비과의조개(기타)', '새조개(훈제한 것)(기타)',\n",
       "       '실뱀장어(한마리당 0.3그램 이하인 것으로서 양식용으로 한정)', '비단잉어(활어)(민물의 것)',\n",
       "       '밀크피쉬(냉동)', '상어 지느러미(염장 또는 염수장한것)',\n",
       "       '기타[식용에 적합한 것으로서 고운 가루ㆍ거친 가루와 펠릿(pellet)을 포함한다]',\n",
       "       '살아있거나, 신선하거나 냉장한 수정고둥류[스트롬버스(Strombus)종]',\n",
       "       '코토니 및 스피노잠(기타)(식용의 것)', '전갱이(밀폐용기에넣은것)', '부화용알(브라인슈림프 알 이',\n",
       "       '어란(魚卵)ㆍ어백(魚白)', '방어(활어)', '명태(신선 또는 냉장)(테라그라 찰코그라마)',\n",
       "       '돔(신선 또는 냉장)(스파리대과)', '틸라피아(냉동)(오레오크로미스종)',\n",
       "       '메기(냉동)(판가시우스종,실루러스종,클라리아스종,익타루러스종)',\n",
       "       '잉어(사이프리너스 카르피오,카라시우스 카라시우스,크테노파린고돈 이델루스,하이포프탈미크티스종ㆍ시리누스종ㆍ마일로파린고돈 피세우스)',\n",
       "       '복어(건조/염장불문/훈제제외)', '훈제한 것',\n",
       "       '송어(살모 트루타,옹코링쿠스-미키스, 클라키,아구아보니타,길래,아파케, 크리소가스터)',\n",
       "       '기타[분 조분 펠리트를 포함(식용에 적합한)]의 기타(건조)', '해삼(건조한 것)',\n",
       "       '새끼뱀장어(한 마리당0.3그램을 초과하고50그램이하인것으로양식용으로한정)',\n",
       "       '브레그마세로티대과외6종무리에놀레피디대과어류의(냉동한피레트) ', '대구(가두스모르화), 대구 이외',\n",
       "       '홍합(산것/신선,냉장)', '가자미(연육, 기타)(신선, 냉장)',\n",
       "       '브레그마세로티대과외6종무리에놀레피디대과어류(냉동연옥)', '게(건조, 염상,염수장, 훈제, 기타)-게살포함',\n",
       "       '기타해서포유동물의 유지와 그', '버니토우(기름담근것(밀폐용기', '생선페이스트',\n",
       "       '바지락(조제 또는 저장처리)(밀폐용기에 넣은 것)', '소크아이 연어(홍연어,옹코링쿠스 넬카)', '은대구(냉동)',\n",
       "       '기타 굴(염장 또는 염수장', '붕어(활어) 카라시우스속',\n",
       "       '틸라피아,메기,잉어,뱀장어,나일퍼치 종의 기타(기타,신선 또는 냉장한 것)', '게살(냉동한것)훈제', '꽃게',\n",
       "       '청패각(전복)', '메기(냉동한 피레트)(판가시우스종,실루러스종,클라리아스종,익타루러스종)',\n",
       "       '소라(밀폐용기에 넣은것)', '눈다랑어(터너스오베서스/신선,냉장)', '청어(염장,염수장)',\n",
       "       '냉수성(冷水性) 새우류[판달러스(Pandalus)종ㆍ크란곤 크란곤(Crangon crangon)]',\n",
       "       '보리멸(냉동)', '틸라피아,메기,잉어,뱀장어,나일퍼치 종의 연육(기타,신선 또는 냉장한 것)',\n",
       "       '기타 연육(기타,신선 또는 냉장한 것)', '기타[분 조분 펠리트를 포함(식용에 적합한)]의 기타(훈제한 것)',\n",
       "       '청어(통조림외조제품)', '송어(신선,냉장)', '진두발(기타)(식용의 것)', '바지락(염장 또는 염수장한 것)',\n",
       "       '재첩(산 것 신선 또는 냉장한 것)', '뱀장어(조제 또는 저장처리)(밀폐용기에 넣은 것)',\n",
       "       '청어(밀폐용기에넣은것)', '말(기타)(식용의 것)', '터벗(냉동)(프세타 맥시마)',\n",
       "       '노르웨이 바닷가재(네프로프스 노르베지쿠스)(냉동한 것)(기타)', '송어(활어)',\n",
       "       '기타어류의 피레트(염장 또는 염수장한 것)', '말(냉동)(식용의 것)', '김(냉동한 것)', '미역(냉동한 것)',\n",
       "       '상어지느러미, 기타조제저장처리상어지느러미(밀폐용기에넣은것 포함, 밀폐용기이외)', '어란(건조)', '문어(건조)',\n",
       "       '기타갑각류(밀폐용기에넣은것)', '송어(살모 트루타,옹코링쿠스-미키스,클라키,아구아보니타,길래,아파케,크리소가스터)',\n",
       "       '노르웨이 바닷가재[네프로프스 노르베지쿠스(Nephrops norvegicus)]',\n",
       "       '해파리(산 것 신선 또는 냉장한 것)', '홍살치(냉동)', '골뱅이 (훈제한 것)(밀폐용기에 넣은 것)',\n",
       "       '정어리(통조림외조제품)', '틸라피아,메기,잉어,뱀장어,나일퍼치 종의 훈제한 것',\n",
       "       '연어(송어, 대서양연어 등 이외 기타/냉동/피레트, 어육제외)', '이빨고기(기타/냉동)',\n",
       "       '상어 지느러미(훈제한 것)', '바닷가재(호마루스종)', '달팽이',\n",
       "       '고래 돌고래류(고래목의 포유동물), 바다소(바다소목의 포유동물)', '민대구(메루키우스종,유르피키스종)',\n",
       "       '브레그마세로티대과외6종무리에놀레피디대과어류(냉동연옥) 기타 ',\n",
       "       '기타(신선 또는 냉장)(틸라피아,메기,잉어,뱀장어 외 기타)', '태평양 참다랑어(냉동)(터너스 오리엔탈리스)',\n",
       "       '꽁치(냉동)(학꽁치를 포함한다)', '해파리(냉동한 것)', '황새치(기타/냉동)',\n",
       "       '냉동한 수정고둥류[스트롬버스(Strombus)종]', '김(냉장한 것)(식용의 것)',\n",
       "       '파래(냉장한 것)(식용의 것)', '가자미(간장, 어란제외/신선, 냉장/피레트,어육제외)',\n",
       "       '민대구(신선 또는 냉장)(메루키우스종ㆍ유르피키스종)', '어란(조기/염장,염수장)',\n",
       "       '갯장어(건조/염장불문/훈제제외)', '클램, 새조개 및 피조개 기타(건조)', '진주양식용핵',\n",
       "       '이빨고기(냉동한 피레트)(디소스티쿠스종)', '도박(기타)', '개아지살(건조)',\n",
       "       '닭새우(기타) [팔리누루스속ㆍ파누리루스속ㆍ자수스속]', '송어(염장,염수장)',\n",
       "       '틸라피아(냉동한 피레트)(오레오크로미스종은 제외한다)의 것', '연어(기타)', '능성어(활어)',\n",
       "       '우렁쉥이, 기타수생무척추동물(건조)-해삼,성게,해파리 제외', '연어(염장, 염수장)',\n",
       "       '갯장어(sharp toothed eel/활어)', '성게(조제 또는 저장처리)(밀폐용기에 넣은 것)',\n",
       "       '검정대구(냉동)(폴라치우스 비렌스)', '해파리(건조한 것)', '서대 솔레아종(신선,냉장)',\n",
       "       '바다가재(밀폐용기에넣은것)', '진주패각', '다시마(냉동한 것)',\n",
       "       '수생무척추동물의 기타(염장 또는 염수장한 것)', '실지렁이', '가오리와 홍어(연육, 기타)(냉동)',\n",
       "       '어류간장(건조,훈제,염장)', '송어(훈제한 어류)', '새꼬리민태(냉동)',\n",
       "       '멸치(신선 또는 냉장)(엔그라울리스종)', '원피(장어류의 것)(비유연처리의 것)',\n",
       "       '새조개(산 것,신선 또는 냉장한 것)', '청어(냉동한 피레트)(클루페아 하렌구스 /클루페아팔라시)',\n",
       "       '기타 육·설육', '가자미(신선 또는 냉장한 피레트)', '코토니 및 스피노잠(냉동)(식용의 것)',\n",
       "       '브레그마세로티대과외6종무리에놀레피디대과어류(염장 또는 염수장한것)', '남방참다랑어(터너스 맥코이/신선,냉장)',\n",
       "       '진주조개(기타)(산 것 신선 또는 냉장한 것)', '가다랑어 또는 줄무늬버니토우(신선,냉장)',\n",
       "       '톳(냉장한 것)(식용의 것)', '기타의 새우류의 새우살(냉동한 것)(훈제한 것)', '복어(신선 또는 냉장)',\n",
       "       '불등가사리(기타)(식용의 것)', '뜬세모가사리(기타)', '꽁치(학꽁치 포함/염장, 염수장)',\n",
       "       '파래(냉동한 것)', '틸라피아,메기,잉어,뱀장어,나일퍼치 종의 염장.염수장한 것',\n",
       "       '가오리와 홍어(기타)(신선냉장)', '개량조개(건조)', '골뱅이 (훈제한 것)(밀폐용기에 넣지 아니한 것)',\n",
       "       '메기(신선 또는 냉장한 피레트)(판가시우스종,실루러스종,클라리아스종,익타루러스종)', '기타 굴(훈제한 것)',\n",
       "       '꽃게(냉동한 것) 훈제한 것', '황새치(연육, 기타)', '조기(염장,염수장)',\n",
       "       '메기(신선 또는 냉장)(판가시우스종,실루러스종,클라리아스종,익타루러스종)', '개량조개'], dtype=object)"
      ]
     },
     "execution_count": 45,
     "metadata": {},
     "output_type": "execute_result"
    }
   ],
   "source": [
    "df['수산물명'].unique()"
   ]
  },
  {
   "cell_type": "code",
   "execution_count": 46,
   "id": "ab7b056f-bf9b-41cf-9241-0d8fe6c9b37f",
   "metadata": {},
   "outputs": [
    {
     "data": {
      "text/plain": [
       "492"
      ]
     },
     "execution_count": 46,
     "metadata": {},
     "output_type": "execute_result"
    }
   ],
   "source": [
    "df['수산물명'].nunique()"
   ]
  },
  {
   "cell_type": "code",
   "execution_count": 51,
   "id": "7a620d59-a5c5-454c-8844-e53f1a181801",
   "metadata": {},
   "outputs": [],
   "source": [
    "df['수산물명'].value_counts().sort_index().to_excel('MPRC_List.xlsx')"
   ]
  },
  {
   "cell_type": "code",
   "execution_count": 52,
   "id": "b42a2b6d-e65e-4501-b67a-41ea8ad24143",
   "metadata": {},
   "outputs": [
    {
     "data": {
      "text/plain": [
       "0                                  기타 포유동물\n",
       "1                                   넙치(활어)\n",
       "2                    터벗(신선 또는 냉장)(프세타 맥시마)\n",
       "3                   청어(클루페아 하렌구스,클루페아 팔라시)\n",
       "4    고등어(스콤버 스콤브루스,스콤버 오스트랄라시쿠스,스콤버 자포니쿠스)\n",
       "Name: 수산물명, dtype: object"
      ]
     },
     "execution_count": 52,
     "metadata": {},
     "output_type": "execute_result"
    }
   ],
   "source": [
    "df['수산물명'].head()"
   ]
  },
  {
   "cell_type": "code",
   "execution_count": 59,
   "id": "51ff67d9-8d17-46b5-842b-ba581bc8596b",
   "metadata": {},
   "outputs": [],
   "source": [
    "# str accessor(접근자): 시리즈 원소에 대해 문자열을 처리하는 특별한 객체\n",
    "# 문자열을 처리하는 다양한 함수를 가지고 있음(모듈)\n",
    "# raw-string은 문자열 안에 있는 모든 이스케이프의 기능을 해제합니다.\n",
    "df['수산물명'] = df['수산물명'].str.replace(pat = r'(\\(|\\[|\\{).+', repl = '', regex = True)"
   ]
  },
  {
   "cell_type": "code",
   "execution_count": 60,
   "id": "b5eb2a5d-ee0e-42b6-bfb8-60cfed680863",
   "metadata": {},
   "outputs": [],
   "source": [
    "df['수산물명'].value_counts().sort_index().to_excel('MPRC_List_2.xlsx')"
   ]
  },
  {
   "cell_type": "code",
   "execution_count": 61,
   "id": "c8e833c5-bf69-48e2-ad6d-c72d99f1a0b1",
   "metadata": {
    "collapsed": true,
    "jupyter": {
     "outputs_hidden": true
    }
   },
   "outputs": [
    {
     "data": {
      "text/plain": [
       "0        False\n",
       "1        False\n",
       "2        False\n",
       "3        False\n",
       "4        False\n",
       "         ...  \n",
       "32375    False\n",
       "32376    False\n",
       "32377    False\n",
       "32378    False\n",
       "32379    False\n",
       "Name: 국가명, Length: 32380, dtype: bool"
      ]
     },
     "execution_count": 61,
     "metadata": {},
     "output_type": "execute_result"
    }
   ],
   "source": [
    "cond = (df['국가명'] == '일본')\n",
    "cond"
   ]
  },
  {
   "cell_type": "code",
   "execution_count": 62,
   "id": "9f8f3ad5-f863-4977-86be-0c98ab0a6eff",
   "metadata": {},
   "outputs": [
    {
     "data": {
      "text/plain": [
       "np.int64(2630)"
      ]
     },
     "execution_count": 62,
     "metadata": {},
     "output_type": "execute_result"
    }
   ],
   "source": [
    "cond.sum()"
   ]
  },
  {
   "cell_type": "code",
   "execution_count": 63,
   "id": "4875abb6-2326-4382-8152-3f26898e70cc",
   "metadata": {},
   "outputs": [],
   "source": [
    "# 불리언 인덱싱: 조건에 맞는 행 또는 열만 선택하기\n",
    "jpn = df.loc[cond, :]"
   ]
  },
  {
   "cell_type": "code",
   "execution_count": 64,
   "id": "b96e6224-d831-43a6-8ded-1ca88ee5d396",
   "metadata": {},
   "outputs": [
    {
     "data": {
      "text/plain": [
       "(2630, 6)"
      ]
     },
     "execution_count": 64,
     "metadata": {},
     "output_type": "execute_result"
    }
   ],
   "source": [
    "jpn.shape"
   ]
  },
  {
   "cell_type": "code",
   "execution_count": 65,
   "id": "16f7db69-159e-492a-9390-36ad2e8943b4",
   "metadata": {},
   "outputs": [
    {
     "data": {
      "text/html": [
       "<div>\n",
       "<style scoped>\n",
       "    .dataframe tbody tr th:only-of-type {\n",
       "        vertical-align: middle;\n",
       "    }\n",
       "\n",
       "    .dataframe tbody tr th {\n",
       "        vertical-align: top;\n",
       "    }\n",
       "\n",
       "    .dataframe thead th {\n",
       "        text-align: right;\n",
       "    }\n",
       "</style>\n",
       "<table border=\"1\" class=\"dataframe\">\n",
       "  <thead>\n",
       "    <tr style=\"text-align: right;\">\n",
       "      <th></th>\n",
       "      <th>기준년월</th>\n",
       "      <th>국가명</th>\n",
       "      <th>수산물명</th>\n",
       "      <th>수출입명</th>\n",
       "      <th>중량</th>\n",
       "      <th>달러</th>\n",
       "    </tr>\n",
       "  </thead>\n",
       "  <tbody>\n",
       "    <tr>\n",
       "      <th>466</th>\n",
       "      <td>202401</td>\n",
       "      <td>일본</td>\n",
       "      <td>게살</td>\n",
       "      <td>수입</td>\n",
       "      <td>4.78</td>\n",
       "      <td>291</td>\n",
       "    </tr>\n",
       "    <tr>\n",
       "      <th>471</th>\n",
       "      <td>202401</td>\n",
       "      <td>일본</td>\n",
       "      <td>붉은 대게살</td>\n",
       "      <td>수출</td>\n",
       "      <td>171281.40</td>\n",
       "      <td>1942836</td>\n",
       "    </tr>\n",
       "    <tr>\n",
       "      <th>486</th>\n",
       "      <td>202401</td>\n",
       "      <td>일본</td>\n",
       "      <td>게 조제품</td>\n",
       "      <td>수출</td>\n",
       "      <td>20453.50</td>\n",
       "      <td>95247</td>\n",
       "    </tr>\n",
       "    <tr>\n",
       "      <th>487</th>\n",
       "      <td>202401</td>\n",
       "      <td>일본</td>\n",
       "      <td>게 조제품</td>\n",
       "      <td>수입</td>\n",
       "      <td>0.90</td>\n",
       "      <td>62</td>\n",
       "    </tr>\n",
       "    <tr>\n",
       "      <th>491</th>\n",
       "      <td>202401</td>\n",
       "      <td>일본</td>\n",
       "      <td>고등어</td>\n",
       "      <td>수출</td>\n",
       "      <td>14861.60</td>\n",
       "      <td>96138</td>\n",
       "    </tr>\n",
       "  </tbody>\n",
       "</table>\n",
       "</div>"
      ],
      "text/plain": [
       "       기준년월 국가명    수산물명 수출입명         중량       달러\n",
       "466  202401  일본      게살   수입       4.78      291\n",
       "471  202401  일본  붉은 대게살   수출  171281.40  1942836\n",
       "486  202401  일본   게 조제품   수출   20453.50    95247\n",
       "487  202401  일본   게 조제품   수입       0.90       62\n",
       "491  202401  일본     고등어   수출   14861.60    96138"
      ]
     },
     "execution_count": 65,
     "metadata": {},
     "output_type": "execute_result"
    }
   ],
   "source": [
    "jpn.head()"
   ]
  },
  {
   "cell_type": "code",
   "execution_count": 67,
   "id": "9a61a82e-25b8-496f-8e2a-ea9539d27930",
   "metadata": {},
   "outputs": [
    {
     "data": {
      "text/plain": [
       "np.int64(876403715)"
      ]
     },
     "execution_count": 67,
     "metadata": {},
     "output_type": "execute_result"
    }
   ],
   "source": [
    "jpn['달러'].sum()"
   ]
  },
  {
   "cell_type": "code",
   "execution_count": 68,
   "id": "a418db75-eb60-4317-8d73-26b984b9a0f6",
   "metadata": {},
   "outputs": [
    {
     "data": {
      "text/plain": [
       "np.int64(667886640)"
      ]
     },
     "execution_count": 68,
     "metadata": {},
     "output_type": "execute_result"
    }
   ],
   "source": [
    "jpn.loc[jpn['수출입명'] == '수출', '달러'].sum()"
   ]
  },
  {
   "cell_type": "code",
   "execution_count": 69,
   "id": "ebcba58d-1610-4857-8b62-996ce8f5dfdc",
   "metadata": {},
   "outputs": [
    {
     "data": {
      "text/plain": [
       "np.int64(208517075)"
      ]
     },
     "execution_count": 69,
     "metadata": {},
     "output_type": "execute_result"
    }
   ],
   "source": [
    "jpn.loc[jpn['수출입명'] == '수입', '달러'].sum()"
   ]
  },
  {
   "cell_type": "code",
   "execution_count": 70,
   "id": "2cf72156-11e4-4458-a454-0d83e0a4e7c2",
   "metadata": {},
   "outputs": [
    {
     "data": {
      "text/plain": [
       "수출입명\n",
       "수입    208517075\n",
       "수출    667886640\n",
       "Name: 달러, dtype: int64"
      ]
     },
     "execution_count": 70,
     "metadata": {},
     "output_type": "execute_result"
    }
   ],
   "source": [
    "jpn.groupby(by = '수출입명')['달러'].sum()"
   ]
  },
  {
   "cell_type": "code",
   "execution_count": 72,
   "id": "860c0ac4-8cee-4847-b4b5-a08e031c6b1b",
   "metadata": {},
   "outputs": [
    {
     "data": {
      "text/plain": [
       "수산물명\n",
       "고등어의것                                       8\n",
       "암염                                         62\n",
       "기타 육·설육                                    76\n",
       "틸라피아,메기,잉어,뱀장어,나일퍼치 종의 염장.염수장한 것           90\n",
       "상어지느러미, 기타조제저장처리상어지느러미                     95\n",
       "                                      ...    \n",
       "돔                                    36746910\n",
       "전복                                   38059950\n",
       "방어                                   77102331\n",
       "다랑어 기타                               92801196\n",
       "김                                   206891664\n",
       "Name: 달러, Length: 181, dtype: int64"
      ]
     },
     "execution_count": 72,
     "metadata": {},
     "output_type": "execute_result"
    }
   ],
   "source": [
    "jpn.groupby(by = '수산물명')['달러'].sum().sort_values()"
   ]
  },
  {
   "cell_type": "code",
   "execution_count": 73,
   "id": "3238f4dd-5bec-4c81-ba0d-ea5d197d2385",
   "metadata": {},
   "outputs": [
    {
     "data": {
      "text/plain": [
       "수산물명\n",
       "산호                            0\n",
       "연어                            3\n",
       "양식진주                          7\n",
       "고등어의것                         8\n",
       "어류의 지방과 기름 및 그 분획물           21\n",
       "                        ...    \n",
       "미역                     25107759\n",
       "붕장어                    32329825\n",
       "전복                     38059950\n",
       "다랑어 기타                 92064577\n",
       "김                     206325896\n",
       "Name: 달러, Length: 144, dtype: int64"
      ]
     },
     "execution_count": 73,
     "metadata": {},
     "output_type": "execute_result"
    }
   ],
   "source": [
    "jpn.loc[jpn['수출입명'] == '수출', :].groupby(by = '수산물명')['달러'].sum().sort_values()"
   ]
  },
  {
   "cell_type": "code",
   "execution_count": 74,
   "id": "ec4fe28c-e6bf-4041-8aba-457cc42d17e8",
   "metadata": {},
   "outputs": [
    {
     "data": {
      "text/plain": [
       "수산물명\n",
       "건조한 것                3\n",
       "기타어류의 피레트           19\n",
       "바지락                 21\n",
       "명란                  23\n",
       "명태 냉동연육             25\n",
       "                ...   \n",
       "가리비과의조개        7557333\n",
       "기타어류           8707267\n",
       "가리비과의조개 기타    30841036\n",
       "돔             36711223\n",
       "방어            76845874\n",
       "Name: 달러, Length: 138, dtype: int64"
      ]
     },
     "execution_count": 74,
     "metadata": {},
     "output_type": "execute_result"
    }
   ],
   "source": [
    "jpn.loc[jpn['수출입명'] == '수입', :].groupby(by = '수산물명')['달러'].sum().sort_values()"
   ]
  },
  {
   "cell_type": "code",
   "execution_count": 75,
   "id": "7c990949-a00f-4e2c-9c14-65dcf0e23551",
   "metadata": {},
   "outputs": [
    {
     "data": {
      "text/plain": [
       "수출입명  수산물명  \n",
       "수출    산호                0\n",
       "      연어                3\n",
       "수입    건조한 것             3\n",
       "수출    양식진주              7\n",
       "      고등어의것             8\n",
       "                  ...    \n",
       "수입    돔          36711223\n",
       "수출    전복         38059950\n",
       "수입    방어         76845874\n",
       "수출    다랑어 기타     92064577\n",
       "      김         206325896\n",
       "Name: 달러, Length: 282, dtype: int64"
      ]
     },
     "execution_count": 75,
     "metadata": {},
     "output_type": "execute_result"
    }
   ],
   "source": [
    "jpn.groupby(by = ['수출입명', '수산물명'])['달러'].sum().sort_values()"
   ]
  },
  {
   "cell_type": "code",
   "execution_count": 78,
   "id": "0fa01d93-e62f-4f23-a240-c3f9e28d241e",
   "metadata": {},
   "outputs": [],
   "source": [
    "pvt = pd.pivot_table(data = jpn, index = '수산물명', columns = '수출입명', \n",
    "                     values = '달러', aggfunc = 'sum', fill_value = 0)"
   ]
  },
  {
   "cell_type": "code",
   "execution_count": 80,
   "id": "5a012a9c-96a6-4865-9fba-5bbf5e9cff85",
   "metadata": {},
   "outputs": [
    {
     "data": {
      "text/html": [
       "<div>\n",
       "<style scoped>\n",
       "    .dataframe tbody tr th:only-of-type {\n",
       "        vertical-align: middle;\n",
       "    }\n",
       "\n",
       "    .dataframe tbody tr th {\n",
       "        vertical-align: top;\n",
       "    }\n",
       "\n",
       "    .dataframe thead th {\n",
       "        text-align: right;\n",
       "    }\n",
       "</style>\n",
       "<table border=\"1\" class=\"dataframe\">\n",
       "  <thead>\n",
       "    <tr style=\"text-align: right;\">\n",
       "      <th>수출입명</th>\n",
       "      <th>수입</th>\n",
       "      <th>수출</th>\n",
       "    </tr>\n",
       "    <tr>\n",
       "      <th>수산물명</th>\n",
       "      <th></th>\n",
       "      <th></th>\n",
       "    </tr>\n",
       "  </thead>\n",
       "  <tbody>\n",
       "    <tr>\n",
       "      <th>가다랑어 또는 줄무늬버니토우</th>\n",
       "      <td>3365</td>\n",
       "      <td>75058</td>\n",
       "    </tr>\n",
       "    <tr>\n",
       "      <th>가다랭이</th>\n",
       "      <td>13397</td>\n",
       "      <td>893886</td>\n",
       "    </tr>\n",
       "    <tr>\n",
       "      <th>가리비과의조개</th>\n",
       "      <td>7557333</td>\n",
       "      <td>9839</td>\n",
       "    </tr>\n",
       "    <tr>\n",
       "      <th>가리비과의조개 기타</th>\n",
       "      <td>30841036</td>\n",
       "      <td>0</td>\n",
       "    </tr>\n",
       "    <tr>\n",
       "      <th>가오리</th>\n",
       "      <td>2791</td>\n",
       "      <td>0</td>\n",
       "    </tr>\n",
       "  </tbody>\n",
       "</table>\n",
       "</div>"
      ],
      "text/plain": [
       "수출입명                   수입      수출\n",
       "수산물명                             \n",
       "가다랑어 또는 줄무늬버니토우      3365   75058\n",
       "가다랭이                13397  893886\n",
       "가리비과의조개           7557333    9839\n",
       "가리비과의조개 기타       30841036       0\n",
       "가오리                  2791       0"
      ]
     },
     "execution_count": 80,
     "metadata": {},
     "output_type": "execute_result"
    }
   ],
   "source": [
    "pvt.head()"
   ]
  },
  {
   "cell_type": "code",
   "execution_count": 79,
   "id": "e2b0b3f3-d7b1-4982-b561-2964bd25cf8b",
   "metadata": {},
   "outputs": [
    {
     "data": {
      "text/plain": [
       "Index(['수입', '수출'], dtype='object', name='수출입명')"
      ]
     },
     "execution_count": 79,
     "metadata": {},
     "output_type": "execute_result"
    }
   ],
   "source": [
    "pvt.columns"
   ]
  },
  {
   "cell_type": "code",
   "execution_count": 81,
   "id": "c51ca0fe-521e-4351-8ccd-423c9b32820e",
   "metadata": {},
   "outputs": [
    {
     "data": {
      "text/plain": [
       "Index(['가다랑어 또는 줄무늬버니토우', '가다랭이', '가리비과의조개', '가리비과의조개 기타', '가오리', '가오리와 홍어',\n",
       "       '가자미', '간', '갈치', '갑각류 기타',\n",
       "       ...\n",
       "       '피조개 기타', '한천', '해삼', '해초류와 기타조류 기타', '해파리', '홍살치', '홍어', '홍합', '황다랑어',\n",
       "       '황새치'],\n",
       "      dtype='object', name='수산물명', length=181)"
      ]
     },
     "execution_count": 81,
     "metadata": {},
     "output_type": "execute_result"
    }
   ],
   "source": [
    "pvt.index"
   ]
  },
  {
   "cell_type": "code",
   "execution_count": 83,
   "id": "b3acdca8-c9b7-4c78-9275-ab82c7724977",
   "metadata": {},
   "outputs": [],
   "source": [
    "pvt = pvt.reset_index()"
   ]
  },
  {
   "cell_type": "code",
   "execution_count": 85,
   "id": "1d0ada97-57dd-4bec-8909-fd75f6fc9316",
   "metadata": {},
   "outputs": [],
   "source": [
    "pvt.columns.name = None"
   ]
  },
  {
   "cell_type": "code",
   "execution_count": 86,
   "id": "edf2948f-1ff1-47f6-8dab-530c68bc04b8",
   "metadata": {
    "collapsed": true,
    "jupyter": {
     "outputs_hidden": true
    }
   },
   "outputs": [
    {
     "data": {
      "text/html": [
       "<div>\n",
       "<style scoped>\n",
       "    .dataframe tbody tr th:only-of-type {\n",
       "        vertical-align: middle;\n",
       "    }\n",
       "\n",
       "    .dataframe tbody tr th {\n",
       "        vertical-align: top;\n",
       "    }\n",
       "\n",
       "    .dataframe thead th {\n",
       "        text-align: right;\n",
       "    }\n",
       "</style>\n",
       "<table border=\"1\" class=\"dataframe\">\n",
       "  <thead>\n",
       "    <tr style=\"text-align: right;\">\n",
       "      <th></th>\n",
       "      <th>수산물명</th>\n",
       "      <th>수입</th>\n",
       "      <th>수출</th>\n",
       "    </tr>\n",
       "  </thead>\n",
       "  <tbody>\n",
       "    <tr>\n",
       "      <th>0</th>\n",
       "      <td>가다랑어 또는 줄무늬버니토우</td>\n",
       "      <td>3365</td>\n",
       "      <td>75058</td>\n",
       "    </tr>\n",
       "    <tr>\n",
       "      <th>1</th>\n",
       "      <td>가다랭이</td>\n",
       "      <td>13397</td>\n",
       "      <td>893886</td>\n",
       "    </tr>\n",
       "    <tr>\n",
       "      <th>2</th>\n",
       "      <td>가리비과의조개</td>\n",
       "      <td>7557333</td>\n",
       "      <td>9839</td>\n",
       "    </tr>\n",
       "    <tr>\n",
       "      <th>3</th>\n",
       "      <td>가리비과의조개 기타</td>\n",
       "      <td>30841036</td>\n",
       "      <td>0</td>\n",
       "    </tr>\n",
       "    <tr>\n",
       "      <th>4</th>\n",
       "      <td>가오리</td>\n",
       "      <td>2791</td>\n",
       "      <td>0</td>\n",
       "    </tr>\n",
       "  </tbody>\n",
       "</table>\n",
       "</div>"
      ],
      "text/plain": [
       "              수산물명        수입      수출\n",
       "0  가다랑어 또는 줄무늬버니토우      3365   75058\n",
       "1             가다랭이     13397  893886\n",
       "2          가리비과의조개   7557333    9839\n",
       "3       가리비과의조개 기타  30841036       0\n",
       "4              가오리      2791       0"
      ]
     },
     "execution_count": 86,
     "metadata": {},
     "output_type": "execute_result"
    }
   ],
   "source": [
    "pvt.head()"
   ]
  },
  {
   "cell_type": "code",
   "execution_count": 88,
   "id": "ed3b1e8e-a970-449b-b603-d49c75446e8b",
   "metadata": {},
   "outputs": [],
   "source": [
    "pvt['무역수지'] = pvt['수출'] - pvt['수입']"
   ]
  },
  {
   "cell_type": "code",
   "execution_count": 89,
   "id": "4870f0ab-985f-408e-a44b-ff235e8e19ba",
   "metadata": {
    "collapsed": true,
    "jupyter": {
     "outputs_hidden": true
    },
    "scrolled": true
   },
   "outputs": [
    {
     "data": {
      "text/html": [
       "<div>\n",
       "<style scoped>\n",
       "    .dataframe tbody tr th:only-of-type {\n",
       "        vertical-align: middle;\n",
       "    }\n",
       "\n",
       "    .dataframe tbody tr th {\n",
       "        vertical-align: top;\n",
       "    }\n",
       "\n",
       "    .dataframe thead th {\n",
       "        text-align: right;\n",
       "    }\n",
       "</style>\n",
       "<table border=\"1\" class=\"dataframe\">\n",
       "  <thead>\n",
       "    <tr style=\"text-align: right;\">\n",
       "      <th></th>\n",
       "      <th>수산물명</th>\n",
       "      <th>수입</th>\n",
       "      <th>수출</th>\n",
       "      <th>무역수지</th>\n",
       "    </tr>\n",
       "  </thead>\n",
       "  <tbody>\n",
       "    <tr>\n",
       "      <th>0</th>\n",
       "      <td>가다랑어 또는 줄무늬버니토우</td>\n",
       "      <td>3365</td>\n",
       "      <td>75058</td>\n",
       "      <td>71693</td>\n",
       "    </tr>\n",
       "    <tr>\n",
       "      <th>1</th>\n",
       "      <td>가다랭이</td>\n",
       "      <td>13397</td>\n",
       "      <td>893886</td>\n",
       "      <td>880489</td>\n",
       "    </tr>\n",
       "    <tr>\n",
       "      <th>2</th>\n",
       "      <td>가리비과의조개</td>\n",
       "      <td>7557333</td>\n",
       "      <td>9839</td>\n",
       "      <td>-7547494</td>\n",
       "    </tr>\n",
       "    <tr>\n",
       "      <th>3</th>\n",
       "      <td>가리비과의조개 기타</td>\n",
       "      <td>30841036</td>\n",
       "      <td>0</td>\n",
       "      <td>-30841036</td>\n",
       "    </tr>\n",
       "    <tr>\n",
       "      <th>4</th>\n",
       "      <td>가오리</td>\n",
       "      <td>2791</td>\n",
       "      <td>0</td>\n",
       "      <td>-2791</td>\n",
       "    </tr>\n",
       "  </tbody>\n",
       "</table>\n",
       "</div>"
      ],
      "text/plain": [
       "              수산물명        수입      수출      무역수지\n",
       "0  가다랑어 또는 줄무늬버니토우      3365   75058     71693\n",
       "1             가다랭이     13397  893886    880489\n",
       "2          가리비과의조개   7557333    9839  -7547494\n",
       "3       가리비과의조개 기타  30841036       0 -30841036\n",
       "4              가오리      2791       0     -2791"
      ]
     },
     "execution_count": 89,
     "metadata": {},
     "output_type": "execute_result"
    }
   ],
   "source": [
    "pvt.head()"
   ]
  },
  {
   "cell_type": "code",
   "execution_count": 91,
   "id": "06572d7b-9b95-4864-91e9-64248cb173d8",
   "metadata": {},
   "outputs": [
    {
     "data": {
      "text/html": [
       "<div>\n",
       "<style scoped>\n",
       "    .dataframe tbody tr th:only-of-type {\n",
       "        vertical-align: middle;\n",
       "    }\n",
       "\n",
       "    .dataframe tbody tr th {\n",
       "        vertical-align: top;\n",
       "    }\n",
       "\n",
       "    .dataframe thead th {\n",
       "        text-align: right;\n",
       "    }\n",
       "</style>\n",
       "<table border=\"1\" class=\"dataframe\">\n",
       "  <thead>\n",
       "    <tr style=\"text-align: right;\">\n",
       "      <th></th>\n",
       "      <th>수산물명</th>\n",
       "      <th>수입</th>\n",
       "      <th>수출</th>\n",
       "      <th>무역수지</th>\n",
       "    </tr>\n",
       "  </thead>\n",
       "  <tbody>\n",
       "    <tr>\n",
       "      <th>47</th>\n",
       "      <td>김</td>\n",
       "      <td>565768</td>\n",
       "      <td>206325896</td>\n",
       "      <td>205760128</td>\n",
       "    </tr>\n",
       "    <tr>\n",
       "      <th>61</th>\n",
       "      <td>다랑어 기타</td>\n",
       "      <td>736619</td>\n",
       "      <td>92064577</td>\n",
       "      <td>91327958</td>\n",
       "    </tr>\n",
       "    <tr>\n",
       "      <th>146</th>\n",
       "      <td>전복</td>\n",
       "      <td>0</td>\n",
       "      <td>38059950</td>\n",
       "      <td>38059950</td>\n",
       "    </tr>\n",
       "    <tr>\n",
       "      <th>93</th>\n",
       "      <td>붕장어</td>\n",
       "      <td>0</td>\n",
       "      <td>32329825</td>\n",
       "      <td>32329825</td>\n",
       "    </tr>\n",
       "    <tr>\n",
       "      <th>80</th>\n",
       "      <td>미역</td>\n",
       "      <td>67548</td>\n",
       "      <td>25107759</td>\n",
       "      <td>25040211</td>\n",
       "    </tr>\n",
       "    <tr>\n",
       "      <th>...</th>\n",
       "      <td>...</td>\n",
       "      <td>...</td>\n",
       "      <td>...</td>\n",
       "      <td>...</td>\n",
       "    </tr>\n",
       "    <tr>\n",
       "      <th>40</th>\n",
       "      <td>기타어류</td>\n",
       "      <td>8707267</td>\n",
       "      <td>3925905</td>\n",
       "      <td>-4781362</td>\n",
       "    </tr>\n",
       "    <tr>\n",
       "      <th>2</th>\n",
       "      <td>가리비과의조개</td>\n",
       "      <td>7557333</td>\n",
       "      <td>9839</td>\n",
       "      <td>-7547494</td>\n",
       "    </tr>\n",
       "    <tr>\n",
       "      <th>3</th>\n",
       "      <td>가리비과의조개 기타</td>\n",
       "      <td>30841036</td>\n",
       "      <td>0</td>\n",
       "      <td>-30841036</td>\n",
       "    </tr>\n",
       "    <tr>\n",
       "      <th>69</th>\n",
       "      <td>돔</td>\n",
       "      <td>36711223</td>\n",
       "      <td>35687</td>\n",
       "      <td>-36675536</td>\n",
       "    </tr>\n",
       "    <tr>\n",
       "      <th>83</th>\n",
       "      <td>방어</td>\n",
       "      <td>76845874</td>\n",
       "      <td>256457</td>\n",
       "      <td>-76589417</td>\n",
       "    </tr>\n",
       "  </tbody>\n",
       "</table>\n",
       "<p>181 rows × 4 columns</p>\n",
       "</div>"
      ],
      "text/plain": [
       "           수산물명        수입         수출       무역수지\n",
       "47            김    565768  206325896  205760128\n",
       "61       다랑어 기타    736619   92064577   91327958\n",
       "146          전복         0   38059950   38059950\n",
       "93          붕장어         0   32329825   32329825\n",
       "80           미역     67548   25107759   25040211\n",
       "..          ...       ...        ...        ...\n",
       "40         기타어류   8707267    3925905   -4781362\n",
       "2       가리비과의조개   7557333       9839   -7547494\n",
       "3    가리비과의조개 기타  30841036          0  -30841036\n",
       "69            돔  36711223      35687  -36675536\n",
       "83           방어  76845874     256457  -76589417\n",
       "\n",
       "[181 rows x 4 columns]"
      ]
     },
     "execution_count": 91,
     "metadata": {},
     "output_type": "execute_result"
    }
   ],
   "source": [
    "pvt.sort_values(by = '무역수지', ascending = False)"
   ]
  },
  {
   "cell_type": "code",
   "execution_count": 92,
   "id": "0fcbb008-fca7-4334-ae90-651b3d3c5404",
   "metadata": {},
   "outputs": [],
   "source": [
    "def mprcItemIndex(nation):\n",
    "    cond = (df['국가명'] == nation)\n",
    "    nat = df.loc[cond, :]\n",
    "    pvt = pd.pivot_table(data = nat, index = '수산물명', columns = '수출입명', \n",
    "                         values = '달러', aggfunc = 'sum', fill_value = 0)\n",
    "    pvt = pvt.reset_index()\n",
    "    pvt.columns.name = None\n",
    "    pvt['무역수지'] = pvt['수출'] - pvt['수입']\n",
    "    pvt = pvt.sort_values(by = '무역수지', ascending = False)\n",
    "    return pvt"
   ]
  },
  {
   "cell_type": "code",
   "execution_count": 93,
   "id": "ffd4ef82-e09e-4583-bde3-6692fec21b31",
   "metadata": {},
   "outputs": [
    {
     "data": {
      "text/html": [
       "<div>\n",
       "<style scoped>\n",
       "    .dataframe tbody tr th:only-of-type {\n",
       "        vertical-align: middle;\n",
       "    }\n",
       "\n",
       "    .dataframe tbody tr th {\n",
       "        vertical-align: top;\n",
       "    }\n",
       "\n",
       "    .dataframe thead th {\n",
       "        text-align: right;\n",
       "    }\n",
       "</style>\n",
       "<table border=\"1\" class=\"dataframe\">\n",
       "  <thead>\n",
       "    <tr style=\"text-align: right;\">\n",
       "      <th></th>\n",
       "      <th>수산물명</th>\n",
       "      <th>수입</th>\n",
       "      <th>수출</th>\n",
       "      <th>무역수지</th>\n",
       "    </tr>\n",
       "  </thead>\n",
       "  <tbody>\n",
       "    <tr>\n",
       "      <th>47</th>\n",
       "      <td>김</td>\n",
       "      <td>565768</td>\n",
       "      <td>206325896</td>\n",
       "      <td>205760128</td>\n",
       "    </tr>\n",
       "    <tr>\n",
       "      <th>61</th>\n",
       "      <td>다랑어 기타</td>\n",
       "      <td>736619</td>\n",
       "      <td>92064577</td>\n",
       "      <td>91327958</td>\n",
       "    </tr>\n",
       "    <tr>\n",
       "      <th>146</th>\n",
       "      <td>전복</td>\n",
       "      <td>0</td>\n",
       "      <td>38059950</td>\n",
       "      <td>38059950</td>\n",
       "    </tr>\n",
       "    <tr>\n",
       "      <th>93</th>\n",
       "      <td>붕장어</td>\n",
       "      <td>0</td>\n",
       "      <td>32329825</td>\n",
       "      <td>32329825</td>\n",
       "    </tr>\n",
       "    <tr>\n",
       "      <th>80</th>\n",
       "      <td>미역</td>\n",
       "      <td>67548</td>\n",
       "      <td>25107759</td>\n",
       "      <td>25040211</td>\n",
       "    </tr>\n",
       "    <tr>\n",
       "      <th>...</th>\n",
       "      <td>...</td>\n",
       "      <td>...</td>\n",
       "      <td>...</td>\n",
       "      <td>...</td>\n",
       "    </tr>\n",
       "    <tr>\n",
       "      <th>40</th>\n",
       "      <td>기타어류</td>\n",
       "      <td>8707267</td>\n",
       "      <td>3925905</td>\n",
       "      <td>-4781362</td>\n",
       "    </tr>\n",
       "    <tr>\n",
       "      <th>2</th>\n",
       "      <td>가리비과의조개</td>\n",
       "      <td>7557333</td>\n",
       "      <td>9839</td>\n",
       "      <td>-7547494</td>\n",
       "    </tr>\n",
       "    <tr>\n",
       "      <th>3</th>\n",
       "      <td>가리비과의조개 기타</td>\n",
       "      <td>30841036</td>\n",
       "      <td>0</td>\n",
       "      <td>-30841036</td>\n",
       "    </tr>\n",
       "    <tr>\n",
       "      <th>69</th>\n",
       "      <td>돔</td>\n",
       "      <td>36711223</td>\n",
       "      <td>35687</td>\n",
       "      <td>-36675536</td>\n",
       "    </tr>\n",
       "    <tr>\n",
       "      <th>83</th>\n",
       "      <td>방어</td>\n",
       "      <td>76845874</td>\n",
       "      <td>256457</td>\n",
       "      <td>-76589417</td>\n",
       "    </tr>\n",
       "  </tbody>\n",
       "</table>\n",
       "<p>181 rows × 4 columns</p>\n",
       "</div>"
      ],
      "text/plain": [
       "           수산물명        수입         수출       무역수지\n",
       "47            김    565768  206325896  205760128\n",
       "61       다랑어 기타    736619   92064577   91327958\n",
       "146          전복         0   38059950   38059950\n",
       "93          붕장어         0   32329825   32329825\n",
       "80           미역     67548   25107759   25040211\n",
       "..          ...       ...        ...        ...\n",
       "40         기타어류   8707267    3925905   -4781362\n",
       "2       가리비과의조개   7557333       9839   -7547494\n",
       "3    가리비과의조개 기타  30841036          0  -30841036\n",
       "69            돔  36711223      35687  -36675536\n",
       "83           방어  76845874     256457  -76589417\n",
       "\n",
       "[181 rows x 4 columns]"
      ]
     },
     "execution_count": 93,
     "metadata": {},
     "output_type": "execute_result"
    }
   ],
   "source": [
    "mprcItemIndex(nation = '일본')"
   ]
  },
  {
   "cell_type": "code",
   "execution_count": null,
   "id": "a2e6d5b3-3962-44cb-83a1-288cc9bbc59c",
   "metadata": {},
   "outputs": [],
   "source": [
    "# 인덱스에 '국가명', 컬럼스에 '수출입명'으로 설정하고 '달러' 합계를 피벗 테이블로 생성\n",
    "# '수출'에서 '수입'을 뺀 '무역수지'를 추가하고 내림차순 정렬\n"
   ]
  }
 ],
 "metadata": {
  "kernelspec": {
   "display_name": "Python 3 (ipykernel)",
   "language": "python",
   "name": "python3"
  },
  "language_info": {
   "codemirror_mode": {
    "name": "ipython",
    "version": 3
   },
   "file_extension": ".py",
   "mimetype": "text/x-python",
   "name": "python",
   "nbconvert_exporter": "python",
   "pygments_lexer": "ipython3",
   "version": "3.12.10"
  }
 },
 "nbformat": 4,
 "nbformat_minor": 5
}
